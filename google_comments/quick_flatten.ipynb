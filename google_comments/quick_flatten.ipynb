{
 "cells": [
  {
   "cell_type": "code",
   "execution_count": 24,
   "metadata": {},
   "outputs": [],
   "source": [
    "import pandas\n",
    "import json\n",
    "import requests\n",
    "import re\n",
    "import asyncio\n",
    "from urllib.parse import urlencode\n",
    "import pathlib\n",
    "from google_comments import MEDIA_PATH"
   ]
  },
  {
   "cell_type": "code",
   "execution_count": 25,
   "metadata": {},
   "outputs": [],
   "source": [
    "# to_delete = pathlib.Path(MEDIA_PATH / 'aprium/files_to_flatten').glob('**/*_comments.json')\n",
    "# for file in to_delete:\n",
    "#     if file.is_file() and file.exists():\n",
    "#         file.unlink()"
   ]
  },
  {
   "cell_type": "code",
   "execution_count": 26,
   "metadata": {},
   "outputs": [],
   "source": [
    "# files = list(pathlib.Path(MEDIA_PATH / 'aprium').glob('**/*.json'))"
   ]
  },
  {
   "cell_type": "code",
   "execution_count": 27,
   "metadata": {},
   "outputs": [],
   "source": [
    "# def filter_func(path):\n",
    "#     result = re.search(r'^[a-zA-Z0-9]+\\_[\\d+\\-]+\\_\\d+\\.json$', path.name)\n",
    "#     if result:\n",
    "#         return True\n",
    "#     return False\n",
    "\n",
    "\n",
    "# filtered_files = list(filter(filter_func, files))"
   ]
  },
  {
   "cell_type": "markdown",
   "metadata": {},
   "source": [
    "## List files"
   ]
  },
  {
   "cell_type": "code",
   "execution_count": 28,
   "metadata": {},
   "outputs": [],
   "source": [
    "files = list(pathlib.Path(MEDIA_PATH / 'aprium/files_to_flatten').glob('**/*.json'))"
   ]
  },
  {
   "cell_type": "code",
   "execution_count": 29,
   "metadata": {},
   "outputs": [
    {
     "name": "stdout",
     "output_type": "stream",
     "text": [
      "Found 470 files\n"
     ]
    }
   ],
   "source": [
    "print(f'Found {len(files)} files')"
   ]
  },
  {
   "cell_type": "code",
   "execution_count": 30,
   "metadata": {},
   "outputs": [],
   "source": [
    "def read_files(items):\n",
    "    files_data = []\n",
    "    for file in items:\n",
    "        with open(file, mode='r', encoding='utf-8') as f:\n",
    "            values = json.load(f)\n",
    "            if not isinstance(values, list):\n",
    "                print(f'{file} is not a list')\n",
    "                values = [values]\n",
    "            files_data.extend(values)\n",
    "    return files_data\n",
    "\n",
    "\n",
    "initial_data = read_files(files)"
   ]
  },
  {
   "cell_type": "code",
   "execution_count": 31,
   "metadata": {},
   "outputs": [
    {
     "name": "stdout",
     "output_type": "stream",
     "text": [
      "Contains 470 items\n"
     ]
    }
   ],
   "source": [
    "print(f'Contains {len(initial_data)} items')"
   ]
  },
  {
   "cell_type": "code",
   "execution_count": 32,
   "metadata": {},
   "outputs": [],
   "source": [
    "def flatten(data):\n",
    "    container = []\n",
    "    for item in data:\n",
    "        if isinstance(item, dict):\n",
    "            reviews = item.pop('reviews')\n",
    "            business_rating = item.pop('rating')\n",
    "            for review in reviews:\n",
    "                review.update(business_rating=business_rating, **item)\n",
    "                container.append(review)\n",
    "        else:\n",
    "            print(f'Cannot treat item {item}')\n",
    "    return container\n",
    "\n",
    "data = flatten(initial_data)"
   ]
  },
  {
   "cell_type": "code",
   "execution_count": 33,
   "metadata": {},
   "outputs": [],
   "source": [
    "df = pandas.DataFrame(data=data)"
   ]
  },
  {
   "cell_type": "code",
   "execution_count": 34,
   "metadata": {},
   "outputs": [],
   "source": [
    "final_df = df[['name', 'text', 'rating', 'period', 'address']]\n",
    "# final_df = df[['name', 'address', 'telephone', 'website']]\n",
    "# final_df = final_df.drop_duplicates(subset=['name'])"
   ]
  },
  {
   "cell_type": "markdown",
   "metadata": {},
   "source": [
    "## Address completion"
   ]
  },
  {
   "cell_type": "code",
   "execution_count": 35,
   "metadata": {},
   "outputs": [
    {
     "name": "stderr",
     "output_type": "stream",
     "text": [
      "C:\\Users\\pendenquej\\AppData\\Local\\Temp\\ipykernel_26880\\353551679.py:13: SettingWithCopyWarning: \n",
      "A value is trying to be set on a copy of a slice from a DataFrame.\n",
      "Try using .loc[row_indexer,col_indexer] = value instead\n",
      "\n",
      "See the caveats in the documentation: https://pandas.pydata.org/pandas-docs/stable/user_guide/indexing.html#returning-a-view-versus-a-copy\n",
      "  final_df['zip_code'] = final_df['address'].map(get_address_meta_data('zip_code'))\n",
      "C:\\Users\\pendenquej\\AppData\\Local\\Temp\\ipykernel_26880\\353551679.py:14: SettingWithCopyWarning: \n",
      "A value is trying to be set on a copy of a slice from a DataFrame.\n",
      "Try using .loc[row_indexer,col_indexer] = value instead\n",
      "\n",
      "See the caveats in the documentation: https://pandas.pydata.org/pandas-docs/stable/user_guide/indexing.html#returning-a-view-versus-a-copy\n",
      "  final_df['city'] = final_df['address'].map(get_address_meta_data('city'))\n",
      "C:\\Users\\pendenquej\\AppData\\Local\\Temp\\ipykernel_26880\\353551679.py:15: SettingWithCopyWarning: \n",
      "A value is trying to be set on a copy of a slice from a DataFrame.\n",
      "Try using .loc[row_indexer,col_indexer] = value instead\n",
      "\n",
      "See the caveats in the documentation: https://pandas.pydata.org/pandas-docs/stable/user_guide/indexing.html#returning-a-view-versus-a-copy\n",
      "  final_df['city_details'] = None\n"
     ]
    }
   ],
   "source": [
    "ZIP_CODE_REGEX = r'(?<=\\,)\\s?(?P<zip_code>\\d{4,5})\\s?(?P<city>.*)$'\n",
    "\n",
    "def get_address_meta_data(name):\n",
    "    def get_zip_code(value):\n",
    "        if value is None:\n",
    "            return None\n",
    "        result = re.search(ZIP_CODE_REGEX, value)\n",
    "        if result:\n",
    "            return result.groupdict().get(name, None)\n",
    "        return None\n",
    "    return get_zip_code\n",
    "\n",
    "final_df['zip_code'] = final_df['address'].map(get_address_meta_data('zip_code'))\n",
    "final_df['city'] = final_df['address'].map(get_address_meta_data('city'))\n",
    "final_df['city_details'] = None\n",
    "\n",
    "\n",
    "async def address_requester(value):\n",
    "    if value is None:\n",
    "        return None\n",
    "    query = urlencode({'q': value})\n",
    "    url = f'https://api-adresse.data.gouv.fr/search/?{query}'\n",
    "    response = requests.get(url, headers={'content-type': 'application/json'})\n",
    "    \n",
    "    if response.ok:\n",
    "        data = response.json()\n",
    "        try:\n",
    "            city_details = data['features'][0]['properties']['context']\n",
    "        except:\n",
    "            return None\n",
    "        else:\n",
    "            print(f'Response completed for: {value}: {city_details}')\n",
    "            return city_details\n",
    "    return None\n",
    "\n",
    "\n",
    "async def completed_addresses():\n",
    "    for item in final_df.itertuples(name='Company'):\n",
    "        city_details = await address_requester(item.address)\n",
    "        if city_details is None:\n",
    "            continue\n",
    "\n",
    "        final_df.loc[item.Index, 'city_details'] = city_details\n",
    "        await asyncio.sleep(1)\n",
    "\n",
    "# await completed_addresses()"
   ]
  },
  {
   "cell_type": "code",
   "execution_count": 36,
   "metadata": {},
   "outputs": [],
   "source": [
    "companies_array = final_df['name'].apply(lambda x: x.lower()).unique()"
   ]
  },
  {
   "cell_type": "code",
   "execution_count": 37,
   "metadata": {},
   "outputs": [
    {
     "data": {
      "text/html": [
       "<div>\n",
       "<style scoped>\n",
       "    .dataframe tbody tr th:only-of-type {\n",
       "        vertical-align: middle;\n",
       "    }\n",
       "\n",
       "    .dataframe tbody tr th {\n",
       "        vertical-align: top;\n",
       "    }\n",
       "\n",
       "    .dataframe thead th {\n",
       "        text-align: right;\n",
       "    }\n",
       "</style>\n",
       "<table border=\"1\" class=\"dataframe\">\n",
       "  <thead>\n",
       "    <tr style=\"text-align: right;\">\n",
       "      <th></th>\n",
       "      <th>unique_companies</th>\n",
       "    </tr>\n",
       "  </thead>\n",
       "  <tbody>\n",
       "    <tr>\n",
       "      <th>0</th>\n",
       "      <td>aprium pharmacie des gascons</td>\n",
       "    </tr>\n",
       "    <tr>\n",
       "      <th>1</th>\n",
       "      <td>aprium pharmacie de tournamy</td>\n",
       "    </tr>\n",
       "    <tr>\n",
       "      <th>2</th>\n",
       "      <td>aprium pharmacie des thermes (gros)</td>\n",
       "    </tr>\n",
       "    <tr>\n",
       "      <th>3</th>\n",
       "      <td>aprium pharmacie du gabut</td>\n",
       "    </tr>\n",
       "    <tr>\n",
       "      <th>4</th>\n",
       "      <td>aprium pharmacie de talmont</td>\n",
       "    </tr>\n",
       "  </tbody>\n",
       "</table>\n",
       "</div>"
      ],
      "text/plain": [
       "                      unique_companies\n",
       "0         aprium pharmacie des gascons\n",
       "1         aprium pharmacie de tournamy\n",
       "2  aprium pharmacie des thermes (gros)\n",
       "3            aprium pharmacie du gabut\n",
       "4          aprium pharmacie de talmont"
      ]
     },
     "execution_count": 37,
     "metadata": {},
     "output_type": "execute_result"
    }
   ],
   "source": [
    "companies_df = final_df[['name']]\n",
    "companies_df = pandas.DataFrame(\n",
    "    {'unique_companies': companies_df['name'].unique()}\n",
    ")\n",
    "companies_df['unique_companies'] = companies_df['unique_companies'].apply(\n",
    "    lambda x: x.lower())\n",
    "companies_df.head()"
   ]
  },
  {
   "cell_type": "code",
   "execution_count": 38,
   "metadata": {},
   "outputs": [
    {
     "data": {
      "text/html": [
       "<div>\n",
       "<style scoped>\n",
       "    .dataframe tbody tr th:only-of-type {\n",
       "        vertical-align: middle;\n",
       "    }\n",
       "\n",
       "    .dataframe tbody tr th {\n",
       "        vertical-align: top;\n",
       "    }\n",
       "\n",
       "    .dataframe thead th {\n",
       "        text-align: right;\n",
       "    }\n",
       "</style>\n",
       "<table border=\"1\" class=\"dataframe\">\n",
       "  <thead>\n",
       "    <tr style=\"text-align: right;\">\n",
       "      <th></th>\n",
       "      <th>companies</th>\n",
       "    </tr>\n",
       "  </thead>\n",
       "  <tbody>\n",
       "    <tr>\n",
       "      <th>count</th>\n",
       "      <td>459</td>\n",
       "    </tr>\n",
       "    <tr>\n",
       "      <th>unique</th>\n",
       "      <td>433</td>\n",
       "    </tr>\n",
       "    <tr>\n",
       "      <th>top</th>\n",
       "      <td>aprium pharmacie</td>\n",
       "    </tr>\n",
       "    <tr>\n",
       "      <th>freq</th>\n",
       "      <td>5</td>\n",
       "    </tr>\n",
       "  </tbody>\n",
       "</table>\n",
       "</div>"
      ],
      "text/plain": [
       "               companies\n",
       "count                459\n",
       "unique               433\n",
       "top     aprium pharmacie\n",
       "freq                   5"
      ]
     },
     "execution_count": 38,
     "metadata": {},
     "output_type": "execute_result"
    }
   ],
   "source": [
    "expected_companies = pandas.read_json(MEDIA_PATH / 'aprium_expected_companies.json')\n",
    "expected_companies = expected_companies.rename(columns={0: 'companies'})\n",
    "expected_companies['companies'] = expected_companies['companies'].apply(\n",
    "    lambda x: x.lower()\n",
    ")\n",
    "expected_companies.describe()"
   ]
  },
  {
   "cell_type": "code",
   "execution_count": 39,
   "metadata": {},
   "outputs": [
    {
     "data": {
      "text/html": [
       "<div>\n",
       "<style scoped>\n",
       "    .dataframe tbody tr th:only-of-type {\n",
       "        vertical-align: middle;\n",
       "    }\n",
       "\n",
       "    .dataframe tbody tr th {\n",
       "        vertical-align: top;\n",
       "    }\n",
       "\n",
       "    .dataframe thead th {\n",
       "        text-align: right;\n",
       "    }\n",
       "</style>\n",
       "<table border=\"1\" class=\"dataframe\">\n",
       "  <thead>\n",
       "    <tr style=\"text-align: right;\">\n",
       "      <th></th>\n",
       "      <th>unique_companies</th>\n",
       "    </tr>\n",
       "  </thead>\n",
       "  <tbody>\n",
       "    <tr>\n",
       "      <th>3</th>\n",
       "      <td>aprium pharmacie du gabut</td>\n",
       "    </tr>\n",
       "    <tr>\n",
       "      <th>27</th>\n",
       "      <td>pharmacie de saint-georges-de-reneins 💊 totum</td>\n",
       "    </tr>\n",
       "    <tr>\n",
       "      <th>29</th>\n",
       "      <td>💊pharmacie des pyrénées muret | aprium</td>\n",
       "    </tr>\n",
       "    <tr>\n",
       "      <th>40</th>\n",
       "      <td>aprium pharmacie debas sophie, arlette &amp; jean-...</td>\n",
       "    </tr>\n",
       "    <tr>\n",
       "      <th>116</th>\n",
       "      <td>pharmacie du triangle - aprium</td>\n",
       "    </tr>\n",
       "    <tr>\n",
       "      <th>118</th>\n",
       "      <td>aprium grande pharmacie du centre</td>\n",
       "    </tr>\n",
       "    <tr>\n",
       "      <th>160</th>\n",
       "      <td>aprium pharmacie antiboise</td>\n",
       "    </tr>\n",
       "    <tr>\n",
       "      <th>177</th>\n",
       "      <td>aprium pharmacie moncade</td>\n",
       "    </tr>\n",
       "    <tr>\n",
       "      <th>186</th>\n",
       "      <td>aprium pharmacie kayal</td>\n",
       "    </tr>\n",
       "    <tr>\n",
       "      <th>222</th>\n",
       "      <td>aprium pharmacie des eaux claires</td>\n",
       "    </tr>\n",
       "    <tr>\n",
       "      <th>228</th>\n",
       "      <td>aprium pharmacie du géant</td>\n",
       "    </tr>\n",
       "    <tr>\n",
       "      <th>236</th>\n",
       "      <td>aprium grande pharmacie des marais</td>\n",
       "    </tr>\n",
       "    <tr>\n",
       "      <th>253</th>\n",
       "      <td>aprium pharmacie de la maison blanche</td>\n",
       "    </tr>\n",
       "    <tr>\n",
       "      <th>272</th>\n",
       "      <td>aprium pharmacie provencale snc</td>\n",
       "    </tr>\n",
       "    <tr>\n",
       "      <th>309</th>\n",
       "      <td>aprium pharmacie maudiere</td>\n",
       "    </tr>\n",
       "    <tr>\n",
       "      <th>314</th>\n",
       "      <td>aprium pharmacie centrale de la chapelle</td>\n",
       "    </tr>\n",
       "    <tr>\n",
       "      <th>326</th>\n",
       "      <td>aprium pharmacie saint bruno</td>\n",
       "    </tr>\n",
       "    <tr>\n",
       "      <th>337</th>\n",
       "      <td>aprium pharmacie gambetta</td>\n",
       "    </tr>\n",
       "    <tr>\n",
       "      <th>344</th>\n",
       "      <td>pharmacie centrale valdoly</td>\n",
       "    </tr>\n",
       "    <tr>\n",
       "      <th>349</th>\n",
       "      <td>aprium pharmacie de la poudrière</td>\n",
       "    </tr>\n",
       "    <tr>\n",
       "      <th>352</th>\n",
       "      <td>aprium grande pharmacie de la viarhôna</td>\n",
       "    </tr>\n",
       "    <tr>\n",
       "      <th>364</th>\n",
       "      <td>aprium pharmacie du mistral</td>\n",
       "    </tr>\n",
       "    <tr>\n",
       "      <th>366</th>\n",
       "      <td>aprium grande pharmacie du marché</td>\n",
       "    </tr>\n",
       "    <tr>\n",
       "      <th>375</th>\n",
       "      <td>aprium pharmacie les arcades</td>\n",
       "    </tr>\n",
       "    <tr>\n",
       "      <th>411</th>\n",
       "      <td>aprium grande pharmacie des terrasses</td>\n",
       "    </tr>\n",
       "    <tr>\n",
       "      <th>428</th>\n",
       "      <td>pharmacie de la poste narbonne</td>\n",
       "    </tr>\n",
       "  </tbody>\n",
       "</table>\n",
       "</div>"
      ],
      "text/plain": [
       "                                      unique_companies\n",
       "3                            aprium pharmacie du gabut\n",
       "27       pharmacie de saint-georges-de-reneins 💊 totum\n",
       "29              💊pharmacie des pyrénées muret | aprium\n",
       "40   aprium pharmacie debas sophie, arlette & jean-...\n",
       "116                     pharmacie du triangle - aprium\n",
       "118                  aprium grande pharmacie du centre\n",
       "160                         aprium pharmacie antiboise\n",
       "177                           aprium pharmacie moncade\n",
       "186                             aprium pharmacie kayal\n",
       "222                  aprium pharmacie des eaux claires\n",
       "228                          aprium pharmacie du géant\n",
       "236                 aprium grande pharmacie des marais\n",
       "253              aprium pharmacie de la maison blanche\n",
       "272                    aprium pharmacie provencale snc\n",
       "309                          aprium pharmacie maudiere\n",
       "314           aprium pharmacie centrale de la chapelle\n",
       "326                       aprium pharmacie saint bruno\n",
       "337                          aprium pharmacie gambetta\n",
       "344                         pharmacie centrale valdoly\n",
       "349                   aprium pharmacie de la poudrière\n",
       "352             aprium grande pharmacie de la viarhôna\n",
       "364                        aprium pharmacie du mistral\n",
       "366                  aprium grande pharmacie du marché\n",
       "375                       aprium pharmacie les arcades\n",
       "411              aprium grande pharmacie des terrasses\n",
       "428                     pharmacie de la poste narbonne"
      ]
     },
     "execution_count": 39,
     "metadata": {},
     "output_type": "execute_result"
    }
   ],
   "source": [
    "companies_df[~companies_df['unique_companies'].isin(expected_companies['companies'])]"
   ]
  },
  {
   "cell_type": "code",
   "execution_count": 40,
   "metadata": {},
   "outputs": [
    {
     "data": {
      "text/html": [
       "<div>\n",
       "<style scoped>\n",
       "    .dataframe tbody tr th:only-of-type {\n",
       "        vertical-align: middle;\n",
       "    }\n",
       "\n",
       "    .dataframe tbody tr th {\n",
       "        vertical-align: top;\n",
       "    }\n",
       "\n",
       "    .dataframe thead th {\n",
       "        text-align: right;\n",
       "    }\n",
       "</style>\n",
       "<table border=\"1\" class=\"dataframe\">\n",
       "  <thead>\n",
       "    <tr style=\"text-align: right;\">\n",
       "      <th></th>\n",
       "      <th>name</th>\n",
       "      <th>text</th>\n",
       "      <th>rating</th>\n",
       "      <th>period</th>\n",
       "      <th>address</th>\n",
       "      <th>zip_code</th>\n",
       "      <th>city</th>\n",
       "      <th>city_details</th>\n",
       "    </tr>\n",
       "  </thead>\n",
       "  <tbody>\n",
       "    <tr>\n",
       "      <th>count</th>\n",
       "      <td>37110</td>\n",
       "      <td>23751</td>\n",
       "      <td>37110</td>\n",
       "      <td>37110</td>\n",
       "      <td>37110</td>\n",
       "      <td>37075</td>\n",
       "      <td>37075</td>\n",
       "      <td>0</td>\n",
       "    </tr>\n",
       "    <tr>\n",
       "      <th>unique</th>\n",
       "      <td>433</td>\n",
       "      <td>22473</td>\n",
       "      <td>19</td>\n",
       "      <td>80</td>\n",
       "      <td>461</td>\n",
       "      <td>358</td>\n",
       "      <td>338</td>\n",
       "      <td>0</td>\n",
       "    </tr>\n",
       "    <tr>\n",
       "      <th>top</th>\n",
       "      <td>Pharmacie O Vert</td>\n",
       "      <td>Tres bien</td>\n",
       "      <td>5 etoiles</td>\n",
       "      <td>il y a un an</td>\n",
       "      <td>15 Av. Jacques Cartier, 77600 Bussy-Saint-Georges</td>\n",
       "      <td>75015</td>\n",
       "      <td>Paris</td>\n",
       "      <td>NaN</td>\n",
       "    </tr>\n",
       "    <tr>\n",
       "      <th>freq</th>\n",
       "      <td>490</td>\n",
       "      <td>87</td>\n",
       "      <td>24940</td>\n",
       "      <td>11098</td>\n",
       "      <td>490</td>\n",
       "      <td>869</td>\n",
       "      <td>4333</td>\n",
       "      <td>NaN</td>\n",
       "    </tr>\n",
       "  </tbody>\n",
       "</table>\n",
       "</div>"
      ],
      "text/plain": [
       "                    name       text     rating        period  \\\n",
       "count              37110      23751      37110         37110   \n",
       "unique               433      22473         19            80   \n",
       "top     Pharmacie O Vert  Tres bien  5 etoiles  il y a un an   \n",
       "freq                 490         87      24940         11098   \n",
       "\n",
       "                                                  address zip_code   city  \\\n",
       "count                                               37110    37075  37075   \n",
       "unique                                                461      358    338   \n",
       "top     15 Av. Jacques Cartier, 77600 Bussy-Saint-Georges    75015  Paris   \n",
       "freq                                                  490      869   4333   \n",
       "\n",
       "       city_details  \n",
       "count             0  \n",
       "unique            0  \n",
       "top             NaN  \n",
       "freq            NaN  "
      ]
     },
     "execution_count": 40,
     "metadata": {},
     "output_type": "execute_result"
    }
   ],
   "source": [
    "final_df.describe()"
   ]
  },
  {
   "cell_type": "code",
   "execution_count": 41,
   "metadata": {},
   "outputs": [],
   "source": [
    "final_df.to_csv('final_file2.csv', index=False, encoding='utf-8')"
   ]
  }
 ],
 "metadata": {
  "kernelspec": {
   "display_name": "Python 3",
   "language": "python",
   "name": "python3"
  },
  "language_info": {
   "codemirror_mode": {
    "name": "ipython",
    "version": 3
   },
   "file_extension": ".py",
   "mimetype": "text/x-python",
   "name": "python",
   "nbconvert_exporter": "python",
   "pygments_lexer": "ipython3",
   "version": "3.11.1"
  }
 },
 "nbformat": 4,
 "nbformat_minor": 2
}

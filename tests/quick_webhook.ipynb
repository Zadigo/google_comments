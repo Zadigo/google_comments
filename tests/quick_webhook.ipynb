{
 "cells": [
  {
   "cell_type": "code",
   "execution_count": 28,
   "metadata": {},
   "outputs": [],
   "source": [
    "import json\n",
    "import requests\n",
    "from google_comments import MEDIA_PATH"
   ]
  },
  {
   "cell_type": "code",
   "execution_count": 29,
   "metadata": {},
   "outputs": [],
   "source": [
    "FILENAME = '0bd6a4b20e_2023-12-27-00_00'\n",
    "\n",
    "FILE_PATH = MEDIA_PATH / f'aprium/{FILENAME}.json'"
   ]
  },
  {
   "cell_type": "code",
   "execution_count": 30,
   "metadata": {},
   "outputs": [
    {
     "name": "stdout",
     "output_type": "stream",
     "text": [
      "{'id': 8, 'company_id': 'comp_Dpbl9hHA6i', 'name': 'Aprium Pharmacie du Pont Vieux', 'current_number_of_reviews': 31}\n"
     ]
    }
   ],
   "source": [
    "with open(FILE_PATH, mode='r', encoding='utf-8') as f:\n",
    "    data = json.load(f)\n",
    "    response = requests.post('http://127.0.0.1:8000/api/v1/reviews/bulk', json=data[0])\n",
    "    print(response.json())"
   ]
  },
  {
   "cell_type": "code",
   "execution_count": null,
   "metadata": {},
   "outputs": [],
   "source": []
  }
 ],
 "metadata": {
  "kernelspec": {
   "display_name": "Python 3",
   "language": "python",
   "name": "python3"
  },
  "language_info": {
   "codemirror_mode": {
    "name": "ipython",
    "version": 3
   },
   "file_extension": ".py",
   "mimetype": "text/x-python",
   "name": "python",
   "nbconvert_exporter": "python",
   "pygments_lexer": "ipython3",
   "version": "3.11.1"
  }
 },
 "nbformat": 4,
 "nbformat_minor": 2
}

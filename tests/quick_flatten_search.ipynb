{
 "cells": [
  {
   "cell_type": "code",
   "execution_count": 11,
   "metadata": {},
   "outputs": [],
   "source": [
    "import pandas\n",
    "import re\n",
    "import json\n",
    "import pathlib\n",
    "from google_comments import MEDIA_PATH"
   ]
  },
  {
   "cell_type": "code",
   "execution_count": 12,
   "metadata": {},
   "outputs": [],
   "source": [
    "files = MEDIA_PATH.joinpath('concurrence_aprium').glob('**/*.json')"
   ]
  },
  {
   "cell_type": "code",
   "execution_count": 13,
   "metadata": {},
   "outputs": [],
   "source": [
    "files_data = []\n",
    "\n",
    "for file in files:\n",
    "    with open(file, mode='r', encoding='utf-8') as f:\n",
    "        data = json.load(f)\n",
    "        data[0]['file_name'] = pathlib.Path(f.name).name\n",
    "        files_data.extend(data)"
   ]
  },
  {
   "cell_type": "code",
   "execution_count": 14,
   "metadata": {},
   "outputs": [],
   "source": [
    "places = []\n",
    "for item in files_data:\n",
    "    file_places = item['places']\n",
    "    for place in file_places:\n",
    "        place['file_name'] = item['file_name']\n",
    "    places.extend(file_places)"
   ]
  },
  {
   "cell_type": "code",
   "execution_count": 15,
   "metadata": {},
   "outputs": [],
   "source": [
    "df = pandas.DataFrame(data=places)"
   ]
  },
  {
   "cell_type": "code",
   "execution_count": 21,
   "metadata": {},
   "outputs": [],
   "source": [
    "df = df[['name', 'latitude', 'longitude', 'address', 'rating', 'number_of_reviews', 'file_name']]\n",
    "final_df = df[['name', 'latitude', 'longitude',\n",
    "               'address', 'rating', 'number_of_reviews']]"
   ]
  },
  {
   "cell_type": "code",
   "execution_count": 17,
   "metadata": {},
   "outputs": [
    {
     "data": {
      "text/plain": [
       "name                 71\n",
       "latitude             71\n",
       "longitude            71\n",
       "address               0\n",
       "rating               71\n",
       "number_of_reviews    71\n",
       "file_name            71\n",
       "dtype: int64"
      ]
     },
     "execution_count": 17,
     "metadata": {},
     "output_type": "execute_result"
    }
   ],
   "source": [
    "no_address = df[df['address'].isna()]\n",
    "no_address.count()"
   ]
  },
  {
   "cell_type": "code",
   "execution_count": 18,
   "metadata": {},
   "outputs": [],
   "source": [
    "def zip_code(value):\n",
    "    if value is None:\n",
    "        return None\n",
    "    result = re.search(r'(\\d{5})', value)\n",
    "    if result:\n",
    "        return result.group(1)\n",
    "    return None\n",
    "\n",
    "\n",
    "def city(value):\n",
    "    if value is None:\n",
    "        return None\n",
    "    result = re.search(r'\\d{5}\\s?(.*)', value)\n",
    "    if result:\n",
    "        return result.group(1)\n",
    "    return None\n",
    "\n",
    "df['zip_code'] = df['address'].apply(zip_code)        \n",
    "df['city'] = df['address'].apply(city)        "
   ]
  },
  {
   "cell_type": "code",
   "execution_count": 19,
   "metadata": {},
   "outputs": [],
   "source": [
    "df['is_duplicated'] = df.duplicated(subset=['address'])\n",
    "duplicates = df[df['is_duplicated'] == True & ~df['address'].isna()]\n",
    "duplicates = duplicates.sort_values('address')\n",
    "# duplicates.to_csv('duplicated.csv', index=False)"
   ]
  },
  {
   "cell_type": "code",
   "execution_count": null,
   "metadata": {},
   "outputs": [],
   "source": [
    "final_df.to_csv(MEDIA_PATH / 'concurrence.csv', encoding='utf-8', index=False)"
   ]
  }
 ],
 "metadata": {
  "kernelspec": {
   "display_name": "Python 3",
   "language": "python",
   "name": "python3"
  },
  "language_info": {
   "codemirror_mode": {
    "name": "ipython",
    "version": 3
   },
   "file_extension": ".py",
   "mimetype": "text/x-python",
   "name": "python",
   "nbconvert_exporter": "python",
   "pygments_lexer": "ipython3",
   "version": "3.11.1"
  }
 },
 "nbformat": 4,
 "nbformat_minor": 2
}

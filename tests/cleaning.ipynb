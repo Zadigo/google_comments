{
 "cells": [
  {
   "cell_type": "code",
   "execution_count": 994,
   "metadata": {},
   "outputs": [],
   "source": [
    "import pandas\n",
    "import csv\n",
    "import pathlib"
   ]
  },
  {
   "cell_type": "code",
   "execution_count": 995,
   "metadata": {},
   "outputs": [],
   "source": [
    "path = pathlib.Path('C:/Users/pendenquej/Downloads/centres.csv')"
   ]
  },
  {
   "cell_type": "code",
   "execution_count": 996,
   "metadata": {},
   "outputs": [],
   "source": [
    "df = pandas.read_csv(path)"
   ]
  },
  {
   "cell_type": "code",
   "execution_count": 997,
   "metadata": {},
   "outputs": [],
   "source": [
    "def inverse_coordinates(value):\n",
    "    if value is None:\n",
    "        return None\n",
    "    a, b = value.split(' ')\n",
    "    return ' '.join([b, a])\n",
    "\n",
    "df['coordinates_2'] = df['coordinates'].map(inverse_coordinates)"
   ]
  },
  {
   "cell_type": "code",
   "execution_count": 998,
   "metadata": {},
   "outputs": [],
   "source": [
    "df['lowered_name'] = df['name'].map(lambda x: x.lower())"
   ]
  },
  {
   "cell_type": "code",
   "execution_count": 999,
   "metadata": {},
   "outputs": [],
   "source": [
    "df['business_type'] = None"
   ]
  },
  {
   "cell_type": "code",
   "execution_count": 1000,
   "metadata": {},
   "outputs": [],
   "source": [
    "def get_business_type(item):\n",
    "    if 'banque' in item.lowered_name:\n",
    "        df.loc[item.Index, 'business_type'] = 'Banque'\n",
    "\n",
    "    if 'crédit' in item.lowered_name:\n",
    "        df.loc[item.Index, 'business_type'] = 'Banque'\n",
    "\n",
    "    if 'bréal' in item.lowered_name or 'cache cache' in item.lowered_name:\n",
    "        df.loc[item.Index, 'business_type'] = 'Magasin de vêtements'\n",
    "\n",
    "    if 'voyage' in item.lowered_name:\n",
    "        df.loc[item.Index, 'business_type'] = 'Agence de voyage'\n",
    "\n",
    "    if item.lowered_name in [\"julien d'orcel\", 'marc orian', 'pandora', 'nicky diamonds'] or 'pandora' in item.lowered_name:\n",
    "        df.loc[item.Index, 'business_type'] = 'Bijouterie'\n",
    "\n",
    "    if 'pizza' in item.lowered_name.strip():\n",
    "        df.loc[item.Index, 'business_type'] = 'Pizzeria'\n",
    "\n",
    "    if 'food' in item.lowered_name or 'restau' in item.lowered_name:\n",
    "        df.loc[item.Index, 'business_type'] = 'Restaurant'\n",
    "\n",
    "    if 'chocolat' in item.lowered_name:\n",
    "        df.loc[item.Index, 'business_type'] = 'Chocolaterie'\n",
    "\n",
    "    if 'pâtisserie' in item.lowered_name:\n",
    "        df.loc[item.Index, 'business_type'] = 'Pâtisserie'\n",
    "\n",
    "    if 'Maison 123' in item.name or 'Maison La Fée' in item.name:\n",
    "        df.loc[item.Index, 'business_type'] = 'Magasin de vêtements'\n",
    "\n",
    "    if 'rougegorge' in item.lowered_name or 'lingerie' in item.lowered_name:\n",
    "        df.loc[item.Index, 'business_type'] = 'Boutique de lingerie'\n",
    "\n",
    "    if 'bouygues' in item.lowered_name or 'orange' in item.lowered_name:\n",
    "        df.loc[item.Index, 'business_type'] = \"Fournisseur d'accès internet\"\n",
    "\n",
    "    if 'boulanger' in item.lowered_name:\n",
    "        df.loc[item.Index, 'business_type'] = \"Boulangerie\"\n",
    "\n",
    "    if 'ongles' in item.lowered_name:\n",
    "        df.loc[item.Index, 'business_type'] = 'Salon de manucure'\n",
    "\n",
    "    if '5àsec' in item.name or 'press' in item.lowered_name:\n",
    "        df.loc[item.Index, 'business_type'] = 'Pressing'\n",
    "\n",
    "    if item.lowered_name.strip() == 'carrefour' or 'cora' in item.lowered_name.strip():\n",
    "        df.loc[item.Index, 'business_type'] = 'Supermarché'\n",
    "\n",
    "    if 'bijou' in item.lowered_name or \"histoire d'or\" in item.lowered_name:\n",
    "        df.loc[item.Index, 'business_type'] = 'Bijouterie'\n",
    "\n",
    "    if 'rituals' in item.lowered_name or 'body shop' in item.lowered_name:\n",
    "        df.loc[item.Index, 'business_type'] = 'Magasin de cosmétiques'\n",
    "\n",
    "    if 'rocher' in item.lowered_name:\n",
    "        df.loc[item.Index, 'business_type'] = 'Institut de beauté'\n",
    "\n",
    "    if 'sport' in item.lowered_name or 'fitness' in item.lowered_name:\n",
    "        df.loc[item.Index, 'business_type'] = 'Salle de sport'\n",
    "    \n",
    "    if 'gold service' in item.lowered_name:\n",
    "        df.loc[item.Index, 'business_type'] = \"Marchand d'or\"\n",
    "\n",
    "    if 'qipao' in item.lowered_name:\n",
    "        df.loc[item.Index, 'business_type'] = 'Institut de beauté'\n",
    "\n",
    "    if 'women' in item.lowered_name or 'junior' in item.lowered_name:\n",
    "        df.loc[item.Index, 'business_type'] = 'Magasin de vêtements'\n",
    "\n",
    "    if 'parfum' in item.lowered_name or 'nocibé' in item.lowered_name or item.lowered_name.strip() in ['sephora']:\n",
    "        df.loc[item.Index, 'business_type'] = 'Parfumerie'\n",
    "\n",
    "    if 'scott' in item.lowered_name or 'chaussure' in item.lowered_name:\n",
    "        df.loc[item.Index, 'business_type'] = 'Magasin de chaussures'\n",
    "\n",
    "    if 'sfr' in item.lowered_name or item.lowered_name == 'free':\n",
    "        df.loc[item.Index, 'business_type'] = \"Fournisseur d'accès internet\"\n",
    "\n",
    "    if 'sac' in item.lowered_name:\n",
    "        df.loc[item.Index, 'business_type'] = 'Magasin de maroquinerie'\n",
    "\n",
    "    if 'savinel' in item.lowered_name:\n",
    "        df.loc[item.Index, 'business_type'] = 'Magasin de sacs et bagages'\n",
    "\n",
    "    if 'pylones' in item.lowered_name:\n",
    "        df.loc[item.Index, 'business_type'] = 'Boutique de cadeaux'\n",
    "\n",
    "    if 'micromania' in item.lowered_name:\n",
    "        df.loc[item.Index, 'business_type'] = 'Magasin de jeux vidéo'\n",
    "\n",
    "    if 'mister' in item.lowered_name:\n",
    "        df.loc[item.Index, 'business_type'] = 'Cordonnier'\n",
    "\n",
    "    if 'coiff' in item.lowered_name:\n",
    "        df.loc[item.Index, 'business_type'] = 'Salon de coiffure'\n",
    "\n",
    "    if 'NORMAL' in item.name:\n",
    "        df.loc[item.Index, 'business_type'] = 'Magasin discount'\n",
    "\n",
    "    if 'parfois' in item.lowered_name:\n",
    "        df.loc[item.Index, 'business_type'] = \"Boutique d'accessoires de mode\"\n",
    "\n",
    "    if 'pharmacie' in item.lowered_name:\n",
    "        df.loc[item.Index, 'business_type'] = 'Pharmacie'\n",
    "\n",
    "    if 'minelli' in item.lowered_name:\n",
    "        df.loc[item.Index, 'business_type'] = 'Magasin de chaussures'\n",
    "\n",
    "    if item.lowered_name.strip() in ['petit bateau', 'pull&bear', 'devred 1902', 'sud express', 'celio', 'caroll', 'quater back', 'naf naf', 'morgan', 'ms mode', 'kaporal store', 'jack & jones', 'foot locker', 'hollister', 'jd sport', 'jd sports', 'zara', 'mango', \"levi's®\", 'izac', 'bershka', 'h&m', 'kiabi', 'jules', 'kiko', 'okaidi', 'undiz', 'promod', 'pimkie']:\n",
    "        df.loc[item.Index, 'business_type'] = 'Magasin de vêtements'\n",
    "\n",
    "    if 'opti' in item.lowered_name or 'krys' in item.lowered_name or 'afflelou' in item.lowered_name or 'lunet' in item.lowered_name:\n",
    "        df.loc[item.Index, 'business_type'] = 'Opticien'\n",
    "\n",
    "    if 'printemps' in item.lowered_name:\n",
    "        df.loc[item.Index, 'business_type'] = 'Enseigne multimarque de prêt-à-porter'\n",
    "\n",
    "    if 'valege' in item.lowered_name or 'couture' in item.lowered_name:\n",
    "        df.loc[item.Index, 'business_type'] = 'Magasin de vêtements'\n",
    "\n",
    "    if item.lowered_name in [\"mcdonald's\"]:\n",
    "        df.loc[item.Index, 'business_type'] = 'Restaurant'\n",
    "\n",
    "    if 'brioche' in item.lowered_name:\n",
    "        df.loc[item.Index, 'business_type'] = 'Sandwicherie'\n",
    "\n",
    "for item in df.itertuples():\n",
    "    get_business_type(item)"
   ]
  },
  {
   "cell_type": "code",
   "execution_count": 1001,
   "metadata": {},
   "outputs": [],
   "source": [
    "final_df = df[['name', 'business_type', 'coordinates_2']]"
   ]
  },
  {
   "cell_type": "code",
   "execution_count": 1002,
   "metadata": {},
   "outputs": [],
   "source": [
    "final_df.to_csv('completed.csv', index=False)"
   ]
  }
 ],
 "metadata": {
  "kernelspec": {
   "display_name": "Python 3",
   "language": "python",
   "name": "python3"
  },
  "language_info": {
   "codemirror_mode": {
    "name": "ipython",
    "version": 3
   },
   "file_extension": ".py",
   "mimetype": "text/x-python",
   "name": "python",
   "nbconvert_exporter": "python",
   "pygments_lexer": "ipython3",
   "version": "3.11.1"
  }
 },
 "nbformat": 4,
 "nbformat_minor": 2
}

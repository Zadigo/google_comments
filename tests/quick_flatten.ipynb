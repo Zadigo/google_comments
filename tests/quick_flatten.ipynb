{
 "cells": [
  {
   "cell_type": "markdown",
   "metadata": {},
   "source": [
    "## Google Comments Flattener\n",
    "\n",
    "This module takes JSON comment files containing reviews, groups them together to create a single Google comments csv file"
   ]
  },
  {
   "cell_type": "code",
   "execution_count": 1,
   "metadata": {},
   "outputs": [],
   "source": [
    "import pandas\n",
    "import json\n",
    "import requests\n",
    "import re\n",
    "import asyncio\n",
    "from urllib.parse import urlencode\n",
    "import pathlib\n",
    "from google_comments import MEDIA_PATH"
   ]
  },
  {
   "cell_type": "code",
   "execution_count": 2,
   "metadata": {},
   "outputs": [],
   "source": [
    "# to_delete = pathlib.Path(MEDIA_PATH / 'aprium/files_to_flatten').glob('**/*_comments.json')\n",
    "# for file in to_delete:\n",
    "#     if file.is_file() and file.exists():\n",
    "#         file.unlink()"
   ]
  },
  {
   "cell_type": "code",
   "execution_count": 3,
   "metadata": {},
   "outputs": [],
   "source": [
    "# def filter_func(path):\n",
    "#     result = re.search(r'^[a-zA-Z0-9]+\\_[\\d+\\-]+\\_\\d+\\.json$', path.name)\n",
    "#     if result:\n",
    "#         return True\n",
    "#     return False\n",
    "\n",
    "\n",
    "# filtered_files = list(filter(filter_func, files))"
   ]
  },
  {
   "cell_type": "markdown",
   "metadata": {},
   "source": [
    "List the the files that we will be using for regrouping the comments"
   ]
  },
  {
   "cell_type": "code",
   "execution_count": 4,
   "metadata": {},
   "outputs": [],
   "source": [
    "# files = list(pathlib.Path(MEDIA_PATH / 'aprium/files_to_flatten').glob('**/*.json'))\n",
    "# files = [MEDIA_PATH.joinpath('business_1f578c6c4b_2024-01-16-00_00.json')]"
   ]
  },
  {
   "cell_type": "code",
   "execution_count": 5,
   "metadata": {},
   "outputs": [],
   "source": [
    "files = list(pathlib.Path(\n",
    "    MEDIA_PATH / 'polygone').glob('**/business_*.json'))"
   ]
  },
  {
   "cell_type": "code",
   "execution_count": 6,
   "metadata": {},
   "outputs": [
    {
     "name": "stdout",
     "output_type": "stream",
     "text": [
      "Found 1 files\n"
     ]
    }
   ],
   "source": [
    "print(f'Found {len(files)} files')"
   ]
  },
  {
   "cell_type": "code",
   "execution_count": 7,
   "metadata": {},
   "outputs": [],
   "source": [
    "def read_files(items):\n",
    "    files_data = []\n",
    "    for file in items:\n",
    "        with open(file, mode='r', encoding='utf-8') as f:\n",
    "            values = json.load(f)\n",
    "            if not isinstance(values, list):\n",
    "                print(f'{file} is not a list')\n",
    "                values = [values]\n",
    "            files_data.extend(values)\n",
    "    return files_data\n",
    "\n",
    "\n",
    "initial_data = read_files(files)"
   ]
  },
  {
   "cell_type": "code",
   "execution_count": 8,
   "metadata": {},
   "outputs": [
    {
     "name": "stdout",
     "output_type": "stream",
     "text": [
      "Contains 1 items\n"
     ]
    }
   ],
   "source": [
    "print(f'Contains {len(initial_data)} items')"
   ]
  },
  {
   "cell_type": "code",
   "execution_count": 9,
   "metadata": {},
   "outputs": [],
   "source": [
    "def flatten(data):\n",
    "    container = []\n",
    "    for item in data:\n",
    "        if isinstance(item, dict):\n",
    "            reviews = item.pop('reviews')\n",
    "            business_rating = item.pop('rating')\n",
    "            for review in reviews:\n",
    "                review.update(business_rating=business_rating, **item)\n",
    "                container.append(review)\n",
    "        else:\n",
    "            print(f'Cannot treat item {item}')\n",
    "    return container\n",
    "\n",
    "data = flatten(initial_data)"
   ]
  },
  {
   "cell_type": "code",
   "execution_count": 10,
   "metadata": {},
   "outputs": [],
   "source": [
    "df = pandas.DataFrame(data=data)"
   ]
  },
  {
   "cell_type": "code",
   "execution_count": 11,
   "metadata": {},
   "outputs": [],
   "source": [
    "final_df = df[['name', 'text', 'rating', 'period', 'address']]\n",
    "# final_df = df[['name', 'address', 'telephone', 'website']]\n",
    "# final_df = final_df.drop_duplicates(subset=['name'])"
   ]
  },
  {
   "cell_type": "code",
   "execution_count": 12,
   "metadata": {},
   "outputs": [
    {
     "data": {
      "text/html": [
       "<div>\n",
       "<style scoped>\n",
       "    .dataframe tbody tr th:only-of-type {\n",
       "        vertical-align: middle;\n",
       "    }\n",
       "\n",
       "    .dataframe tbody tr th {\n",
       "        vertical-align: top;\n",
       "    }\n",
       "\n",
       "    .dataframe thead th {\n",
       "        text-align: right;\n",
       "    }\n",
       "</style>\n",
       "<table border=\"1\" class=\"dataframe\">\n",
       "  <thead>\n",
       "    <tr style=\"text-align: right;\">\n",
       "      <th></th>\n",
       "      <th>name</th>\n",
       "      <th>text</th>\n",
       "      <th>rating</th>\n",
       "      <th>period</th>\n",
       "      <th>address</th>\n",
       "    </tr>\n",
       "  </thead>\n",
       "  <tbody>\n",
       "    <tr>\n",
       "      <th>0</th>\n",
       "      <td>Polygone Riviera</td>\n",
       "      <td>None</td>\n",
       "      <td>4 etoiles</td>\n",
       "      <td>il y a 15 heures Nouveau</td>\n",
       "      <td>119 Av. des Alpes, 06800 Cagnes-sur-Mer</td>\n",
       "    </tr>\n",
       "    <tr>\n",
       "      <th>1</th>\n",
       "      <td>Polygone Riviera</td>\n",
       "      <td>Je n'aime pas les centres commerciaux.... Mais...</td>\n",
       "      <td>5 etoiles</td>\n",
       "      <td>il y a 16 heures Nouveau</td>\n",
       "      <td>119 Av. des Alpes, 06800 Cagnes-sur-Mer</td>\n",
       "    </tr>\n",
       "    <tr>\n",
       "      <th>2</th>\n",
       "      <td>Polygone Riviera</td>\n",
       "      <td>Je me suis rendu a polygone pour voir le nouve...</td>\n",
       "      <td>5 etoiles</td>\n",
       "      <td>il y a 16 heures Nouveau</td>\n",
       "      <td>119 Av. des Alpes, 06800 Cagnes-sur-Mer</td>\n",
       "    </tr>\n",
       "    <tr>\n",
       "      <th>3</th>\n",
       "      <td>Polygone Riviera</td>\n",
       "      <td>Il est de bonne education de repondre aux avis...</td>\n",
       "      <td>2 etoiles</td>\n",
       "      <td>il y a 18 heures Nouveau</td>\n",
       "      <td>119 Av. des Alpes, 06800 Cagnes-sur-Mer</td>\n",
       "    </tr>\n",
       "    <tr>\n",
       "      <th>4</th>\n",
       "      <td>Polygone Riviera</td>\n",
       "      <td>None</td>\n",
       "      <td>5 etoiles</td>\n",
       "      <td>il y a 20 heures Nouveau</td>\n",
       "      <td>119 Av. des Alpes, 06800 Cagnes-sur-Mer</td>\n",
       "    </tr>\n",
       "  </tbody>\n",
       "</table>\n",
       "</div>"
      ],
      "text/plain": [
       "               name                                               text  \\\n",
       "0  Polygone Riviera                                               None   \n",
       "1  Polygone Riviera  Je n'aime pas les centres commerciaux.... Mais...   \n",
       "2  Polygone Riviera  Je me suis rendu a polygone pour voir le nouve...   \n",
       "3  Polygone Riviera  Il est de bonne education de repondre aux avis...   \n",
       "4  Polygone Riviera                                               None   \n",
       "\n",
       "      rating                    period  \\\n",
       "0  4 etoiles  il y a 15 heures Nouveau   \n",
       "1  5 etoiles  il y a 16 heures Nouveau   \n",
       "2  5 etoiles  il y a 16 heures Nouveau   \n",
       "3  2 etoiles  il y a 18 heures Nouveau   \n",
       "4  5 etoiles  il y a 20 heures Nouveau   \n",
       "\n",
       "                                   address  \n",
       "0  119 Av. des Alpes, 06800 Cagnes-sur-Mer  \n",
       "1  119 Av. des Alpes, 06800 Cagnes-sur-Mer  \n",
       "2  119 Av. des Alpes, 06800 Cagnes-sur-Mer  \n",
       "3  119 Av. des Alpes, 06800 Cagnes-sur-Mer  \n",
       "4  119 Av. des Alpes, 06800 Cagnes-sur-Mer  "
      ]
     },
     "execution_count": 12,
     "metadata": {},
     "output_type": "execute_result"
    }
   ],
   "source": [
    "final_df.head()"
   ]
  },
  {
   "cell_type": "markdown",
   "metadata": {},
   "source": [
    "## Address completion\n",
    "\n",
    "This section will try and get the precise address for each business in the file"
   ]
  },
  {
   "cell_type": "code",
   "execution_count": 13,
   "metadata": {},
   "outputs": [
    {
     "data": {
      "text/plain": [
       "1"
      ]
     },
     "execution_count": 13,
     "metadata": {},
     "output_type": "execute_result"
    }
   ],
   "source": [
    "unique_addresses = df[~df['address'].duplicated()]['address']\n",
    "unique_addresses.count()"
   ]
  },
  {
   "cell_type": "code",
   "execution_count": 14,
   "metadata": {},
   "outputs": [
    {
     "name": "stderr",
     "output_type": "stream",
     "text": [
      "C:\\Users\\pendenquej\\AppData\\Local\\Temp\\ipykernel_32700\\353551679.py:13: SettingWithCopyWarning: \n",
      "A value is trying to be set on a copy of a slice from a DataFrame.\n",
      "Try using .loc[row_indexer,col_indexer] = value instead\n",
      "\n",
      "See the caveats in the documentation: https://pandas.pydata.org/pandas-docs/stable/user_guide/indexing.html#returning-a-view-versus-a-copy\n",
      "  final_df['zip_code'] = final_df['address'].map(get_address_meta_data('zip_code'))\n",
      "C:\\Users\\pendenquej\\AppData\\Local\\Temp\\ipykernel_32700\\353551679.py:14: SettingWithCopyWarning: \n",
      "A value is trying to be set on a copy of a slice from a DataFrame.\n",
      "Try using .loc[row_indexer,col_indexer] = value instead\n",
      "\n",
      "See the caveats in the documentation: https://pandas.pydata.org/pandas-docs/stable/user_guide/indexing.html#returning-a-view-versus-a-copy\n",
      "  final_df['city'] = final_df['address'].map(get_address_meta_data('city'))\n",
      "C:\\Users\\pendenquej\\AppData\\Local\\Temp\\ipykernel_32700\\353551679.py:15: SettingWithCopyWarning: \n",
      "A value is trying to be set on a copy of a slice from a DataFrame.\n",
      "Try using .loc[row_indexer,col_indexer] = value instead\n",
      "\n",
      "See the caveats in the documentation: https://pandas.pydata.org/pandas-docs/stable/user_guide/indexing.html#returning-a-view-versus-a-copy\n",
      "  final_df['city_details'] = None\n"
     ]
    }
   ],
   "source": [
    "ZIP_CODE_REGEX = r'(?<=\\,)\\s?(?P<zip_code>\\d{4,5})\\s?(?P<city>.*)$'\n",
    "\n",
    "def get_address_meta_data(name):\n",
    "    def get_zip_code(value):\n",
    "        if value is None:\n",
    "            return None\n",
    "        result = re.search(ZIP_CODE_REGEX, value)\n",
    "        if result:\n",
    "            return result.groupdict().get(name, None)\n",
    "        return None\n",
    "    return get_zip_code\n",
    "\n",
    "final_df['zip_code'] = final_df['address'].map(get_address_meta_data('zip_code'))\n",
    "final_df['city'] = final_df['address'].map(get_address_meta_data('city'))\n",
    "final_df['city_details'] = None\n",
    "\n",
    "\n",
    "async def address_requester(value):\n",
    "    if value is None:\n",
    "        return None\n",
    "    query = urlencode({'q': value})\n",
    "    url = f'https://api-adresse.data.gouv.fr/search/?{query}'\n",
    "    response = requests.get(url, headers={'content-type': 'application/json'})\n",
    "    \n",
    "    if response.ok:\n",
    "        data = response.json()\n",
    "        try:\n",
    "            city_details = data['features'][0]['properties']['context']\n",
    "        except:\n",
    "            return None\n",
    "        else:\n",
    "            print(f'Response completed for: {value}: {city_details}')\n",
    "            return city_details\n",
    "    return None\n",
    "\n",
    "\n",
    "async def completed_addresses():\n",
    "    for item in final_df.itertuples(name='Company'):\n",
    "        city_details = await address_requester(item.address)\n",
    "        if city_details is None:\n",
    "            continue\n",
    "\n",
    "        final_df.loc[item.Index, 'city_details'] = city_details\n",
    "        await asyncio.sleep(1)\n",
    "\n",
    "# await completed_addresses()"
   ]
  },
  {
   "cell_type": "code",
   "execution_count": 15,
   "metadata": {},
   "outputs": [],
   "source": [
    "# companies_array = final_df['name'].apply(lambda x: x.lower()).unique()"
   ]
  },
  {
   "cell_type": "code",
   "execution_count": 16,
   "metadata": {},
   "outputs": [],
   "source": [
    "# companies_df = final_df[['name']]\n",
    "# companies_df = pandas.DataFrame(\n",
    "#     {'unique_companies': companies_df['name'].unique()}\n",
    "# )\n",
    "# companies_df['unique_companies'] = companies_df['unique_companies'].apply(\n",
    "#     lambda x: x.lower())\n",
    "# companies_df.head()"
   ]
  },
  {
   "cell_type": "code",
   "execution_count": 17,
   "metadata": {},
   "outputs": [],
   "source": [
    "# expected_companies = pandas.read_json(MEDIA_PATH / 'aprium_expected_companies.json')\n",
    "# expected_companies = expected_companies.rename(columns={0: 'companies'})\n",
    "# expected_companies['companies'] = expected_companies['companies'].apply(\n",
    "#     lambda x: x.lower()\n",
    "# )\n",
    "# expected_companies.describe()"
   ]
  },
  {
   "cell_type": "code",
   "execution_count": 18,
   "metadata": {},
   "outputs": [],
   "source": [
    "# companies_df[~companies_df['unique_companies'].isin(expected_companies['companies'])]"
   ]
  },
  {
   "cell_type": "code",
   "execution_count": 19,
   "metadata": {},
   "outputs": [
    {
     "data": {
      "text/html": [
       "<div>\n",
       "<style scoped>\n",
       "    .dataframe tbody tr th:only-of-type {\n",
       "        vertical-align: middle;\n",
       "    }\n",
       "\n",
       "    .dataframe tbody tr th {\n",
       "        vertical-align: top;\n",
       "    }\n",
       "\n",
       "    .dataframe thead th {\n",
       "        text-align: right;\n",
       "    }\n",
       "</style>\n",
       "<table border=\"1\" class=\"dataframe\">\n",
       "  <thead>\n",
       "    <tr style=\"text-align: right;\">\n",
       "      <th></th>\n",
       "      <th>name</th>\n",
       "      <th>text</th>\n",
       "      <th>rating</th>\n",
       "      <th>period</th>\n",
       "      <th>address</th>\n",
       "      <th>zip_code</th>\n",
       "      <th>city</th>\n",
       "      <th>city_details</th>\n",
       "    </tr>\n",
       "  </thead>\n",
       "  <tbody>\n",
       "    <tr>\n",
       "      <th>count</th>\n",
       "      <td>3000</td>\n",
       "      <td>1508</td>\n",
       "      <td>3000</td>\n",
       "      <td>3000</td>\n",
       "      <td>3000</td>\n",
       "      <td>3000</td>\n",
       "      <td>3000</td>\n",
       "      <td>0</td>\n",
       "    </tr>\n",
       "    <tr>\n",
       "      <th>unique</th>\n",
       "      <td>1</td>\n",
       "      <td>1424</td>\n",
       "      <td>5</td>\n",
       "      <td>27</td>\n",
       "      <td>1</td>\n",
       "      <td>1</td>\n",
       "      <td>1</td>\n",
       "      <td>0</td>\n",
       "    </tr>\n",
       "    <tr>\n",
       "      <th>top</th>\n",
       "      <td>Polygone Riviera</td>\n",
       "      <td>...</td>\n",
       "      <td>5 etoiles</td>\n",
       "      <td>il y a un an</td>\n",
       "      <td>119 Av. des Alpes, 06800 Cagnes-sur-Mer</td>\n",
       "      <td>06800</td>\n",
       "      <td>Cagnes-sur-Mer</td>\n",
       "      <td>NaN</td>\n",
       "    </tr>\n",
       "    <tr>\n",
       "      <th>freq</th>\n",
       "      <td>3000</td>\n",
       "      <td>11</td>\n",
       "      <td>1820</td>\n",
       "      <td>1543</td>\n",
       "      <td>3000</td>\n",
       "      <td>3000</td>\n",
       "      <td>3000</td>\n",
       "      <td>NaN</td>\n",
       "    </tr>\n",
       "  </tbody>\n",
       "</table>\n",
       "</div>"
      ],
      "text/plain": [
       "                    name  text     rating        period  \\\n",
       "count               3000  1508       3000          3000   \n",
       "unique                 1  1424          5            27   \n",
       "top     Polygone Riviera   ...  5 etoiles  il y a un an   \n",
       "freq                3000    11       1820          1543   \n",
       "\n",
       "                                        address zip_code            city  \\\n",
       "count                                      3000     3000            3000   \n",
       "unique                                        1        1               1   \n",
       "top     119 Av. des Alpes, 06800 Cagnes-sur-Mer    06800  Cagnes-sur-Mer   \n",
       "freq                                       3000     3000            3000   \n",
       "\n",
       "       city_details  \n",
       "count             0  \n",
       "unique            0  \n",
       "top             NaN  \n",
       "freq            NaN  "
      ]
     },
     "execution_count": 19,
     "metadata": {},
     "output_type": "execute_result"
    }
   ],
   "source": [
    "final_df.describe()"
   ]
  },
  {
   "cell_type": "code",
   "execution_count": 20,
   "metadata": {},
   "outputs": [
    {
     "name": "stderr",
     "output_type": "stream",
     "text": [
      "C:\\Users\\pendenquej\\AppData\\Local\\Temp\\ipykernel_32700\\269559733.py:9: SettingWithCopyWarning: \n",
      "A value is trying to be set on a copy of a slice from a DataFrame.\n",
      "Try using .loc[row_indexer,col_indexer] = value instead\n",
      "\n",
      "See the caveats in the documentation: https://pandas.pydata.org/pandas-docs/stable/user_guide/indexing.html#returning-a-view-versus-a-copy\n",
      "  dataframe['text'] = dataframe['text'].map(refixer)\n"
     ]
    }
   ],
   "source": [
    "# By security remove all the semicolons that we eventually missed since this could \n",
    "# the data an Excel file\n",
    "def remove_semicolon(dataframe):\n",
    "    def refixer(value):\n",
    "        if value is None:\n",
    "            return None\n",
    "        return value.replace(';', ' ')\n",
    "\n",
    "    dataframe['text'] = dataframe['text'].map(refixer)\n",
    "    return dataframe\n",
    "\n",
    "final_df = final_df.pipe(remove_semicolon)"
   ]
  },
  {
   "cell_type": "code",
   "execution_count": 21,
   "metadata": {},
   "outputs": [],
   "source": [
    "final_df.to_csv('cap_3000.csv', index=False, encoding='utf-8')"
   ]
  }
 ],
 "metadata": {
  "kernelspec": {
   "display_name": "Python 3",
   "language": "python",
   "name": "python3"
  },
  "language_info": {
   "codemirror_mode": {
    "name": "ipython",
    "version": 3
   },
   "file_extension": ".py",
   "mimetype": "text/x-python",
   "name": "python",
   "nbconvert_exporter": "python",
   "pygments_lexer": "ipython3",
   "version": "3.11.1"
  }
 },
 "nbformat": 4,
 "nbformat_minor": 2
}

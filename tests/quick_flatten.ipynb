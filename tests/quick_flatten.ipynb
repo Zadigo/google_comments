{
 "cells": [
  {
   "cell_type": "markdown",
   "metadata": {},
   "source": [
    "## Google Comments Flattener\n",
    "\n",
    "This module takes JSON comment files containing reviews, groups them together to create a single Google comments csv file"
   ]
  },
  {
   "cell_type": "code",
   "execution_count": 1,
   "metadata": {},
   "outputs": [],
   "source": [
    "import pandas\n",
    "import json\n",
    "import requests\n",
    "import re\n",
    "import asyncio\n",
    "from urllib.parse import urlencode\n",
    "import pathlib\n",
    "from google_comments import MEDIA_PATH"
   ]
  },
  {
   "cell_type": "code",
   "execution_count": 2,
   "metadata": {},
   "outputs": [],
   "source": [
    "# to_delete = pathlib.Path(MEDIA_PATH / 'aprium/files_to_flatten').glob('**/*_comments.json')\n",
    "# for file in to_delete:\n",
    "#     if file.is_file() and file.exists():\n",
    "#         file.unlink()"
   ]
  },
  {
   "cell_type": "code",
   "execution_count": 3,
   "metadata": {},
   "outputs": [],
   "source": [
    "# def filter_func(path):\n",
    "#     result = re.search(r'^[a-zA-Z0-9]+\\_[\\d+\\-]+\\_\\d+\\.json$', path.name)\n",
    "#     if result:\n",
    "#         return True\n",
    "#     return False\n",
    "\n",
    "\n",
    "# filtered_files = list(filter(filter_func, files))"
   ]
  },
  {
   "cell_type": "markdown",
   "metadata": {},
   "source": [
    "List the the files that we will be using for regrouping the comments"
   ]
  },
  {
   "cell_type": "code",
   "execution_count": 4,
   "metadata": {},
   "outputs": [],
   "source": [
    "# files = list(pathlib.Path(MEDIA_PATH / 'aprium/files_to_flatten').glob('**/*.json'))\n",
    "# files = [MEDIA_PATH.joinpath('business_1f578c6c4b_2024-01-16-00_00.json')]"
   ]
  },
  {
   "cell_type": "code",
   "execution_count": 5,
   "metadata": {},
   "outputs": [],
   "source": [
    "files = list(pathlib.Path(MEDIA_PATH / 'concurrents_aprium2').glob('**/business_*.json'))"
   ]
  },
  {
   "cell_type": "code",
   "execution_count": 6,
   "metadata": {},
   "outputs": [
    {
     "name": "stdout",
     "output_type": "stream",
     "text": [
      "Found 71 files\n"
     ]
    }
   ],
   "source": [
    "print(f'Found {len(files)} files')"
   ]
  },
  {
   "cell_type": "code",
   "execution_count": 7,
   "metadata": {},
   "outputs": [],
   "source": [
    "def read_files(items):\n",
    "    files_data = []\n",
    "    for file in items:\n",
    "        with open(file, mode='r', encoding='utf-8') as f:\n",
    "            values = json.load(f)\n",
    "            if not isinstance(values, list):\n",
    "                print(f'{file} is not a list')\n",
    "                values = [values]\n",
    "            files_data.extend(values)\n",
    "    return files_data\n",
    "\n",
    "\n",
    "initial_data = read_files(files)"
   ]
  },
  {
   "cell_type": "code",
   "execution_count": 8,
   "metadata": {},
   "outputs": [
    {
     "name": "stdout",
     "output_type": "stream",
     "text": [
      "Contains 71 items\n"
     ]
    }
   ],
   "source": [
    "print(f'Contains {len(initial_data)} items')"
   ]
  },
  {
   "cell_type": "code",
   "execution_count": 9,
   "metadata": {},
   "outputs": [],
   "source": [
    "def flatten(data):\n",
    "    container = []\n",
    "    for item in data:\n",
    "        if isinstance(item, dict):\n",
    "            reviews = item.pop('reviews')\n",
    "            business_rating = item.pop('rating')\n",
    "            for review in reviews:\n",
    "                review.update(business_rating=business_rating, **item)\n",
    "                container.append(review)\n",
    "        else:\n",
    "            print(f'Cannot treat item {item}')\n",
    "    return container\n",
    "\n",
    "data = flatten(initial_data)"
   ]
  },
  {
   "cell_type": "code",
   "execution_count": 10,
   "metadata": {},
   "outputs": [],
   "source": [
    "df = pandas.DataFrame(data=data)"
   ]
  },
  {
   "cell_type": "code",
   "execution_count": 11,
   "metadata": {},
   "outputs": [],
   "source": [
    "final_df = df[['name', 'text', 'rating', 'period', 'address']]\n",
    "# final_df = df[['name', 'address', 'telephone', 'website']]\n",
    "# final_df = final_df.drop_duplicates(subset=['name'])"
   ]
  },
  {
   "cell_type": "code",
   "execution_count": 12,
   "metadata": {},
   "outputs": [
    {
     "data": {
      "text/html": [
       "<div>\n",
       "<style scoped>\n",
       "    .dataframe tbody tr th:only-of-type {\n",
       "        vertical-align: middle;\n",
       "    }\n",
       "\n",
       "    .dataframe tbody tr th {\n",
       "        vertical-align: top;\n",
       "    }\n",
       "\n",
       "    .dataframe thead th {\n",
       "        text-align: right;\n",
       "    }\n",
       "</style>\n",
       "<table border=\"1\" class=\"dataframe\">\n",
       "  <thead>\n",
       "    <tr style=\"text-align: right;\">\n",
       "      <th></th>\n",
       "      <th>name</th>\n",
       "      <th>text</th>\n",
       "      <th>rating</th>\n",
       "      <th>period</th>\n",
       "      <th>address</th>\n",
       "    </tr>\n",
       "  </thead>\n",
       "  <tbody>\n",
       "    <tr>\n",
       "      <th>0</th>\n",
       "      <td>Pharmacie Jacobins Toulouse</td>\n",
       "      <td>None</td>\n",
       "      <td>1 etoile</td>\n",
       "      <td>il y a un mois</td>\n",
       "      <td>15 Rue Jean-Antoine Romiguieres, 31000 Toulouse</td>\n",
       "    </tr>\n",
       "    <tr>\n",
       "      <th>1</th>\n",
       "      <td>Pharmacie Jacobins Toulouse</td>\n",
       "      <td>None</td>\n",
       "      <td>5 etoiles</td>\n",
       "      <td>il y a 2 mois</td>\n",
       "      <td>15 Rue Jean-Antoine Romiguieres, 31000 Toulouse</td>\n",
       "    </tr>\n",
       "    <tr>\n",
       "      <th>2</th>\n",
       "      <td>Pharmacie Jacobins Toulouse</td>\n",
       "      <td>merci de mettre a jour les horaires pendant me...</td>\n",
       "      <td>1 etoile</td>\n",
       "      <td>il y a 7 mois</td>\n",
       "      <td>15 Rue Jean-Antoine Romiguieres, 31000 Toulouse</td>\n",
       "    </tr>\n",
       "    <tr>\n",
       "      <th>3</th>\n",
       "      <td>Pharmacie Jacobins Toulouse</td>\n",
       "      <td>Personne desagreable. Pas de bonjour ni de au ...</td>\n",
       "      <td>2 etoiles</td>\n",
       "      <td>il y a un an</td>\n",
       "      <td>15 Rue Jean-Antoine Romiguieres, 31000 Toulouse</td>\n",
       "    </tr>\n",
       "    <tr>\n",
       "      <th>4</th>\n",
       "      <td>Pharmacie Jacobins Toulouse</td>\n",
       "      <td>Petite pharmacie tenue par deux soeurs adorabl...</td>\n",
       "      <td>5 etoiles</td>\n",
       "      <td>il y a un an</td>\n",
       "      <td>15 Rue Jean-Antoine Romiguieres, 31000 Toulouse</td>\n",
       "    </tr>\n",
       "  </tbody>\n",
       "</table>\n",
       "</div>"
      ],
      "text/plain": [
       "                          name  \\\n",
       "0  Pharmacie Jacobins Toulouse   \n",
       "1  Pharmacie Jacobins Toulouse   \n",
       "2  Pharmacie Jacobins Toulouse   \n",
       "3  Pharmacie Jacobins Toulouse   \n",
       "4  Pharmacie Jacobins Toulouse   \n",
       "\n",
       "                                                text     rating  \\\n",
       "0                                               None   1 etoile   \n",
       "1                                               None  5 etoiles   \n",
       "2  merci de mettre a jour les horaires pendant me...   1 etoile   \n",
       "3  Personne desagreable. Pas de bonjour ni de au ...  2 etoiles   \n",
       "4  Petite pharmacie tenue par deux soeurs adorabl...  5 etoiles   \n",
       "\n",
       "           period                                          address  \n",
       "0  il y a un mois  15 Rue Jean-Antoine Romiguieres, 31000 Toulouse  \n",
       "1   il y a 2 mois  15 Rue Jean-Antoine Romiguieres, 31000 Toulouse  \n",
       "2   il y a 7 mois  15 Rue Jean-Antoine Romiguieres, 31000 Toulouse  \n",
       "3    il y a un an  15 Rue Jean-Antoine Romiguieres, 31000 Toulouse  \n",
       "4    il y a un an  15 Rue Jean-Antoine Romiguieres, 31000 Toulouse  "
      ]
     },
     "execution_count": 12,
     "metadata": {},
     "output_type": "execute_result"
    }
   ],
   "source": [
    "final_df.head()"
   ]
  },
  {
   "cell_type": "markdown",
   "metadata": {},
   "source": [
    "## Address completion\n",
    "\n",
    "This section will try and get the precise address for each business in the file"
   ]
  },
  {
   "cell_type": "code",
   "execution_count": 13,
   "metadata": {},
   "outputs": [
    {
     "data": {
      "text/plain": [
       "71"
      ]
     },
     "execution_count": 13,
     "metadata": {},
     "output_type": "execute_result"
    }
   ],
   "source": [
    "unique_addresses = df[~df['address'].duplicated()]['address']\n",
    "unique_addresses.count()"
   ]
  },
  {
   "cell_type": "code",
   "execution_count": 14,
   "metadata": {},
   "outputs": [
    {
     "name": "stderr",
     "output_type": "stream",
     "text": [
      "C:\\Users\\pendenquej\\AppData\\Local\\Temp\\ipykernel_19728\\353551679.py:13: SettingWithCopyWarning: \n",
      "A value is trying to be set on a copy of a slice from a DataFrame.\n",
      "Try using .loc[row_indexer,col_indexer] = value instead\n",
      "\n",
      "See the caveats in the documentation: https://pandas.pydata.org/pandas-docs/stable/user_guide/indexing.html#returning-a-view-versus-a-copy\n",
      "  final_df['zip_code'] = final_df['address'].map(get_address_meta_data('zip_code'))\n",
      "C:\\Users\\pendenquej\\AppData\\Local\\Temp\\ipykernel_19728\\353551679.py:14: SettingWithCopyWarning: \n",
      "A value is trying to be set on a copy of a slice from a DataFrame.\n",
      "Try using .loc[row_indexer,col_indexer] = value instead\n",
      "\n",
      "See the caveats in the documentation: https://pandas.pydata.org/pandas-docs/stable/user_guide/indexing.html#returning-a-view-versus-a-copy\n",
      "  final_df['city'] = final_df['address'].map(get_address_meta_data('city'))\n",
      "C:\\Users\\pendenquej\\AppData\\Local\\Temp\\ipykernel_19728\\353551679.py:15: SettingWithCopyWarning: \n",
      "A value is trying to be set on a copy of a slice from a DataFrame.\n",
      "Try using .loc[row_indexer,col_indexer] = value instead\n",
      "\n",
      "See the caveats in the documentation: https://pandas.pydata.org/pandas-docs/stable/user_guide/indexing.html#returning-a-view-versus-a-copy\n",
      "  final_df['city_details'] = None\n"
     ]
    }
   ],
   "source": [
    "ZIP_CODE_REGEX = r'(?<=\\,)\\s?(?P<zip_code>\\d{4,5})\\s?(?P<city>.*)$'\n",
    "\n",
    "def get_address_meta_data(name):\n",
    "    def get_zip_code(value):\n",
    "        if value is None:\n",
    "            return None\n",
    "        result = re.search(ZIP_CODE_REGEX, value)\n",
    "        if result:\n",
    "            return result.groupdict().get(name, None)\n",
    "        return None\n",
    "    return get_zip_code\n",
    "\n",
    "final_df['zip_code'] = final_df['address'].map(get_address_meta_data('zip_code'))\n",
    "final_df['city'] = final_df['address'].map(get_address_meta_data('city'))\n",
    "final_df['city_details'] = None\n",
    "\n",
    "\n",
    "async def address_requester(value):\n",
    "    if value is None:\n",
    "        return None\n",
    "    query = urlencode({'q': value})\n",
    "    url = f'https://api-adresse.data.gouv.fr/search/?{query}'\n",
    "    response = requests.get(url, headers={'content-type': 'application/json'})\n",
    "    \n",
    "    if response.ok:\n",
    "        data = response.json()\n",
    "        try:\n",
    "            city_details = data['features'][0]['properties']['context']\n",
    "        except:\n",
    "            return None\n",
    "        else:\n",
    "            print(f'Response completed for: {value}: {city_details}')\n",
    "            return city_details\n",
    "    return None\n",
    "\n",
    "\n",
    "async def completed_addresses():\n",
    "    for item in final_df.itertuples(name='Company'):\n",
    "        city_details = await address_requester(item.address)\n",
    "        if city_details is None:\n",
    "            continue\n",
    "\n",
    "        final_df.loc[item.Index, 'city_details'] = city_details\n",
    "        await asyncio.sleep(1)\n",
    "\n",
    "# await completed_addresses()"
   ]
  },
  {
   "cell_type": "code",
   "execution_count": 15,
   "metadata": {},
   "outputs": [],
   "source": [
    "# companies_array = final_df['name'].apply(lambda x: x.lower()).unique()"
   ]
  },
  {
   "cell_type": "code",
   "execution_count": 16,
   "metadata": {},
   "outputs": [],
   "source": [
    "# companies_df = final_df[['name']]\n",
    "# companies_df = pandas.DataFrame(\n",
    "#     {'unique_companies': companies_df['name'].unique()}\n",
    "# )\n",
    "# companies_df['unique_companies'] = companies_df['unique_companies'].apply(\n",
    "#     lambda x: x.lower())\n",
    "# companies_df.head()"
   ]
  },
  {
   "cell_type": "code",
   "execution_count": 17,
   "metadata": {},
   "outputs": [],
   "source": [
    "# expected_companies = pandas.read_json(MEDIA_PATH / 'aprium_expected_companies.json')\n",
    "# expected_companies = expected_companies.rename(columns={0: 'companies'})\n",
    "# expected_companies['companies'] = expected_companies['companies'].apply(\n",
    "#     lambda x: x.lower()\n",
    "# )\n",
    "# expected_companies.describe()"
   ]
  },
  {
   "cell_type": "code",
   "execution_count": 18,
   "metadata": {},
   "outputs": [],
   "source": [
    "# companies_df[~companies_df['unique_companies'].isin(expected_companies['companies'])]"
   ]
  },
  {
   "cell_type": "code",
   "execution_count": 19,
   "metadata": {},
   "outputs": [
    {
     "data": {
      "text/html": [
       "<div>\n",
       "<style scoped>\n",
       "    .dataframe tbody tr th:only-of-type {\n",
       "        vertical-align: middle;\n",
       "    }\n",
       "\n",
       "    .dataframe tbody tr th {\n",
       "        vertical-align: top;\n",
       "    }\n",
       "\n",
       "    .dataframe thead th {\n",
       "        text-align: right;\n",
       "    }\n",
       "</style>\n",
       "<table border=\"1\" class=\"dataframe\">\n",
       "  <thead>\n",
       "    <tr style=\"text-align: right;\">\n",
       "      <th></th>\n",
       "      <th>name</th>\n",
       "      <th>text</th>\n",
       "      <th>rating</th>\n",
       "      <th>period</th>\n",
       "      <th>address</th>\n",
       "      <th>zip_code</th>\n",
       "      <th>city</th>\n",
       "      <th>city_details</th>\n",
       "    </tr>\n",
       "  </thead>\n",
       "  <tbody>\n",
       "    <tr>\n",
       "      <th>count</th>\n",
       "      <td>5790</td>\n",
       "      <td>3974</td>\n",
       "      <td>5790</td>\n",
       "      <td>5790</td>\n",
       "      <td>5790</td>\n",
       "      <td>5790</td>\n",
       "      <td>5790</td>\n",
       "      <td>0</td>\n",
       "    </tr>\n",
       "    <tr>\n",
       "      <th>unique</th>\n",
       "      <td>71</td>\n",
       "      <td>3902</td>\n",
       "      <td>5</td>\n",
       "      <td>38</td>\n",
       "      <td>71</td>\n",
       "      <td>10</td>\n",
       "      <td>4</td>\n",
       "      <td>0</td>\n",
       "    </tr>\n",
       "    <tr>\n",
       "      <th>top</th>\n",
       "      <td>Pharmacie de la Grâce de Dieu</td>\n",
       "      <td>Tres bien</td>\n",
       "      <td>5 etoiles</td>\n",
       "      <td>il y a un an</td>\n",
       "      <td>1 Pl. du Commerce, 14000 Caen</td>\n",
       "      <td>14000</td>\n",
       "      <td>Toulouse</td>\n",
       "      <td>NaN</td>\n",
       "    </tr>\n",
       "    <tr>\n",
       "      <th>freq</th>\n",
       "      <td>500</td>\n",
       "      <td>10</td>\n",
       "      <td>3670</td>\n",
       "      <td>1139</td>\n",
       "      <td>500</td>\n",
       "      <td>1501</td>\n",
       "      <td>1920</td>\n",
       "      <td>NaN</td>\n",
       "    </tr>\n",
       "  </tbody>\n",
       "</table>\n",
       "</div>"
      ],
      "text/plain": [
       "                                 name       text     rating        period  \\\n",
       "count                            5790       3974       5790          5790   \n",
       "unique                             71       3902          5            38   \n",
       "top     Pharmacie de la Grâce de Dieu  Tres bien  5 etoiles  il y a un an   \n",
       "freq                              500         10       3670          1139   \n",
       "\n",
       "                              address zip_code      city city_details  \n",
       "count                            5790     5790      5790            0  \n",
       "unique                             71       10         4            0  \n",
       "top     1 Pl. du Commerce, 14000 Caen    14000  Toulouse          NaN  \n",
       "freq                              500     1501      1920          NaN  "
      ]
     },
     "execution_count": 19,
     "metadata": {},
     "output_type": "execute_result"
    }
   ],
   "source": [
    "final_df.describe()"
   ]
  },
  {
   "cell_type": "code",
   "execution_count": 20,
   "metadata": {},
   "outputs": [
    {
     "name": "stderr",
     "output_type": "stream",
     "text": [
      "C:\\Users\\pendenquej\\AppData\\Local\\Temp\\ipykernel_19728\\269559733.py:9: SettingWithCopyWarning: \n",
      "A value is trying to be set on a copy of a slice from a DataFrame.\n",
      "Try using .loc[row_indexer,col_indexer] = value instead\n",
      "\n",
      "See the caveats in the documentation: https://pandas.pydata.org/pandas-docs/stable/user_guide/indexing.html#returning-a-view-versus-a-copy\n",
      "  dataframe['text'] = dataframe['text'].map(refixer)\n"
     ]
    }
   ],
   "source": [
    "# By security remove all the semicolons that we eventually missed since this could \n",
    "# the data an Excel file\n",
    "def remove_semicolon(dataframe):\n",
    "    def refixer(value):\n",
    "        if value is None:\n",
    "            return None\n",
    "        return value.replace(';', ' ')\n",
    "\n",
    "    dataframe['text'] = dataframe['text'].map(refixer)\n",
    "    return dataframe\n",
    "\n",
    "final_df = final_df.pipe(remove_semicolon)"
   ]
  },
  {
   "cell_type": "code",
   "execution_count": 21,
   "metadata": {},
   "outputs": [],
   "source": [
    "final_df.to_csv('final_file2.csv', index=False, encoding='utf-8')"
   ]
  }
 ],
 "metadata": {
  "kernelspec": {
   "display_name": "Python 3",
   "language": "python",
   "name": "python3"
  },
  "language_info": {
   "codemirror_mode": {
    "name": "ipython",
    "version": 3
   },
   "file_extension": ".py",
   "mimetype": "text/x-python",
   "name": "python",
   "nbconvert_exporter": "python",
   "pygments_lexer": "ipython3",
   "version": "3.11.1"
  }
 },
 "nbformat": 4,
 "nbformat_minor": 2
}

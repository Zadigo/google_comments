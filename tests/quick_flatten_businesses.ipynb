{
 "cells": [
  {
   "cell_type": "code",
   "execution_count": 1,
   "metadata": {},
   "outputs": [
    {
     "name": "stdout",
     "output_type": "stream",
     "text": [
      "48° 4.998 -1° 40.81392\n"
     ]
    }
   ],
   "source": [
    "import re\n",
    "import pandas\n",
    "import pathlib\n",
    "from google_comments.utilities.calculation import convert_coordinates\n",
    "from google_comments import MEDIA_PATH\n",
    "from matplotlib import pyplot"
   ]
  },
  {
   "cell_type": "code",
   "execution_count": 2,
   "metadata": {},
   "outputs": [],
   "source": [
    "RESTAURANTS = [\n",
    "    'le fournil des champs',\n",
    "    'le kimberley',\n",
    "    '5àsec',\n",
    "    'burger king',\n",
    "    'mcdonald'\n",
    "    'brioche dorée',\n",
    "    'la déjeunerie',\n",
    "    'la trattoria'\n",
    "]\n",
    "\n",
    "BANKS = [\n",
    "    'crédit agricole',\n",
    "    'crédit mutuel',\n",
    "    'pharmacie',\n",
    "    'carrefour banque',\n",
    "    'carrefour voyage',\n",
    "    'carrefour location',\n",
    "    'carrefour spectacles',\n",
    "    'exepxion',\n",
    "    'accueil',\n",
    "    'feu vert',\n",
    "    'atol',\n",
    "    'opticien',\n",
    "    'norauto',\n",
    "    'lcl'\n",
    "]"
   ]
  },
  {
   "cell_type": "code",
   "execution_count": 3,
   "metadata": {},
   "outputs": [],
   "source": [
    "dfs = [pandas.read_json(file) for file in pathlib.Path().joinpath(MEDIA_PATH, 'magasins_centre_commerciaux').glob('**/*.json')]"
   ]
  },
  {
   "cell_type": "code",
   "execution_count": 4,
   "metadata": {},
   "outputs": [],
   "source": [
    "df = pandas.DataFrame()"
   ]
  },
  {
   "cell_type": "code",
   "execution_count": 5,
   "metadata": {},
   "outputs": [],
   "source": [
    "df = pandas.concat(dfs, ignore_index=True)"
   ]
  },
  {
   "cell_type": "code",
   "execution_count": 6,
   "metadata": {},
   "outputs": [
    {
     "data": {
      "text/plain": [
       "Index(['name', 'url', 'feed_url', 'address', 'rating', 'latitude', 'longitude',\n",
       "       'number_of_reviews', 'date', 'additional_information', 'telephone',\n",
       "       'website', 'reviews'],\n",
       "      dtype='object')"
      ]
     },
     "execution_count": 6,
     "metadata": {},
     "output_type": "execute_result"
    }
   ],
   "source": [
    "df.columns"
   ]
  },
  {
   "cell_type": "code",
   "execution_count": 7,
   "metadata": {},
   "outputs": [],
   "source": [
    "df = df[['name', 'address', 'rating', 'latitude', 'longitude', 'number_of_reviews']]"
   ]
  },
  {
   "cell_type": "code",
   "execution_count": 8,
   "metadata": {},
   "outputs": [],
   "source": [
    "df = df.sort_values('name')"
   ]
  },
  {
   "cell_type": "code",
   "execution_count": 9,
   "metadata": {},
   "outputs": [
    {
     "data": {
      "text/plain": [
       "count               557\n",
       "unique              370\n",
       "top       Histoire d'Or\n",
       "freq                  8\n",
       "Name: name, dtype: object"
      ]
     },
     "execution_count": 9,
     "metadata": {},
     "output_type": "execute_result"
    }
   ],
   "source": [
    "df['name'].describe()"
   ]
  },
  {
   "cell_type": "code",
   "execution_count": 10,
   "metadata": {},
   "outputs": [],
   "source": [
    "def parse_rating(value):\n",
    "    if value is None:\n",
    "        return None\n",
    "    result = re.search(r'(\\d+,\\d+)', value)\n",
    "    if result:\n",
    "        return result.group(1).replace(',', '.')\n",
    "\n",
    "df['rating'] = df['rating'].map(parse_rating)"
   ]
  },
  {
   "cell_type": "code",
   "execution_count": 11,
   "metadata": {},
   "outputs": [],
   "source": [
    "df['number_of_reviews'] = df['number_of_reviews'].fillna(0)"
   ]
  },
  {
   "cell_type": "code",
   "execution_count": 12,
   "metadata": {},
   "outputs": [],
   "source": [
    "df = df.astype({'number_of_reviews': 'int64'})"
   ]
  },
  {
   "cell_type": "code",
   "execution_count": 13,
   "metadata": {},
   "outputs": [],
   "source": [
    "unique_addresses = df[~df['address'].duplicated()]"
   ]
  },
  {
   "cell_type": "code",
   "execution_count": 14,
   "metadata": {},
   "outputs": [],
   "source": [
    "df['coordinates'] = None"
   ]
  },
  {
   "cell_type": "code",
   "execution_count": 15,
   "metadata": {},
   "outputs": [],
   "source": [
    "for item in df.itertuples(name='Business'):\n",
    "    group = df.loc[item.Index, ['latitude', 'longitude']]\n",
    "    result = convert_coordinates(group.latitude, group.longitude, as_dmm=False)\n",
    "    df.loc[item.Index, 'coordinates'] = result"
   ]
  },
  {
   "cell_type": "code",
   "execution_count": 16,
   "metadata": {},
   "outputs": [
    {
     "data": {
      "text/html": [
       "<div>\n",
       "<style scoped>\n",
       "    .dataframe tbody tr th:only-of-type {\n",
       "        vertical-align: middle;\n",
       "    }\n",
       "\n",
       "    .dataframe tbody tr th {\n",
       "        vertical-align: top;\n",
       "    }\n",
       "\n",
       "    .dataframe thead th {\n",
       "        text-align: right;\n",
       "    }\n",
       "</style>\n",
       "<table border=\"1\" class=\"dataframe\">\n",
       "  <thead>\n",
       "    <tr style=\"text-align: right;\">\n",
       "      <th></th>\n",
       "      <th>name</th>\n",
       "      <th>address</th>\n",
       "      <th>rating</th>\n",
       "      <th>latitude</th>\n",
       "      <th>longitude</th>\n",
       "      <th>number_of_reviews</th>\n",
       "      <th>coordinates</th>\n",
       "    </tr>\n",
       "  </thead>\n",
       "  <tbody>\n",
       "    <tr>\n",
       "      <th>506</th>\n",
       "      <td>5àsec</td>\n",
       "      <td>5 Rue du Bosphore, 35000 Rennes</td>\n",
       "      <td>3.6</td>\n",
       "      <td>48.083300</td>\n",
       "      <td>-1.680232</td>\n",
       "      <td>154</td>\n",
       "      <td>48°4'59\" -1°40'48\"</td>\n",
       "    </tr>\n",
       "    <tr>\n",
       "      <th>353</th>\n",
       "      <td>Accueil Grand Quartier</td>\n",
       "      <td>Centre Commercial Grand Quartier, Ille-et-Vila...</td>\n",
       "      <td>3.0</td>\n",
       "      <td>48.136931</td>\n",
       "      <td>-1.695569</td>\n",
       "      <td>5</td>\n",
       "      <td>48°8'12\" -1°41'44\"</td>\n",
       "    </tr>\n",
       "    <tr>\n",
       "      <th>93</th>\n",
       "      <td>Action Rennes Pacé</td>\n",
       "      <td>7 Bd de la Giraudais, 35740 Rennes</td>\n",
       "      <td>4.2</td>\n",
       "      <td>48.138383</td>\n",
       "      <td>-1.767137</td>\n",
       "      <td>541</td>\n",
       "      <td>48°8'18\" -1°46'1\"</td>\n",
       "    </tr>\n",
       "    <tr>\n",
       "      <th>257</th>\n",
       "      <td>Adopt Parfum</td>\n",
       "      <td>Alma, Centre Commercial Carrefour, 5 Rue du Bo...</td>\n",
       "      <td>4.8</td>\n",
       "      <td>48.083689</td>\n",
       "      <td>-1.677599</td>\n",
       "      <td>245</td>\n",
       "      <td>48°5'1\" -1°40'39\"</td>\n",
       "    </tr>\n",
       "    <tr>\n",
       "      <th>314</th>\n",
       "      <td>Adopt Parfums</td>\n",
       "      <td>Centre Commercial Carrefour Rennes, 35510 Cess...</td>\n",
       "      <td>4.8</td>\n",
       "      <td>48.112934</td>\n",
       "      <td>-1.592359</td>\n",
       "      <td>162</td>\n",
       "      <td>48°6'46\" -1°35'32\"</td>\n",
       "    </tr>\n",
       "  </tbody>\n",
       "</table>\n",
       "</div>"
      ],
      "text/plain": [
       "                       name  \\\n",
       "506                   5àsec   \n",
       "353  Accueil Grand Quartier   \n",
       "93       Action Rennes Pacé   \n",
       "257            Adopt Parfum   \n",
       "314           Adopt Parfums   \n",
       "\n",
       "                                               address rating   latitude  \\\n",
       "506                    5 Rue du Bosphore, 35000 Rennes    3.6  48.083300   \n",
       "353  Centre Commercial Grand Quartier, Ille-et-Vila...    3.0  48.136931   \n",
       "93                  7 Bd de la Giraudais, 35740 Rennes    4.2  48.138383   \n",
       "257  Alma, Centre Commercial Carrefour, 5 Rue du Bo...    4.8  48.083689   \n",
       "314  Centre Commercial Carrefour Rennes, 35510 Cess...    4.8  48.112934   \n",
       "\n",
       "     longitude  number_of_reviews         coordinates  \n",
       "506  -1.680232                154  48°4'59\" -1°40'48\"  \n",
       "353  -1.695569                  5  48°8'12\" -1°41'44\"  \n",
       "93   -1.767137                541   48°8'18\" -1°46'1\"  \n",
       "257  -1.677599                245   48°5'1\" -1°40'39\"  \n",
       "314  -1.592359                162  48°6'46\" -1°35'32\"  "
      ]
     },
     "execution_count": 16,
     "metadata": {},
     "output_type": "execute_result"
    }
   ],
   "source": [
    "df.head()"
   ]
  },
  {
   "cell_type": "code",
   "execution_count": 17,
   "metadata": {},
   "outputs": [],
   "source": [
    "# df.to_csv('gonz_all.csv', index=False)"
   ]
  },
  {
   "cell_type": "code",
   "execution_count": 18,
   "metadata": {},
   "outputs": [],
   "source": [
    "w = df.drop_duplicates()\n",
    "w = w.sort_values(by=['name'])\n",
    "w.name = w.name.map(lambda x: x.lower().title())\n",
    "w.to_csv('duplicates.csv', index=False)"
   ]
  },
  {
   "cell_type": "code",
   "execution_count": 19,
   "metadata": {},
   "outputs": [],
   "source": [
    "no_duplicates_df = df.drop_duplicates()\n",
    "no_duplicates_df.to_csv('simple.csv', index=False)"
   ]
  },
  {
   "cell_type": "code",
   "execution_count": 20,
   "metadata": {},
   "outputs": [],
   "source": [
    "df['is_restaurant'] = None\n",
    "df['is_bank'] = None\n",
    "\n",
    "def business_state(values_to_check):\n",
    "    def wrapper(value):\n",
    "        if value is None:\n",
    "            return False\n",
    "\n",
    "        truth_array = []\n",
    "        for name in values_to_check:\n",
    "            if name in value.lower():\n",
    "                truth_array.append(True)\n",
    "        return any(truth_array)\n",
    "    return wrapper\n",
    "\n",
    "df['is_restaurant'] = df['name'].map(business_state(RESTAURANTS))\n",
    "df['is_bank'] = df['name'].map(business_state(BANKS))\n"
   ]
  },
  {
   "cell_type": "code",
   "execution_count": 21,
   "metadata": {},
   "outputs": [],
   "source": [
    "restaurants = df[df['is_restaurant'] == True]"
   ]
  },
  {
   "cell_type": "code",
   "execution_count": 22,
   "metadata": {},
   "outputs": [],
   "source": [
    "banks = df[df['is_bank'] == True]"
   ]
  },
  {
   "cell_type": "code",
   "execution_count": 23,
   "metadata": {},
   "outputs": [],
   "source": [
    "final_df = df[~df['is_bank'] & ~df['is_restaurant']]"
   ]
  },
  {
   "cell_type": "code",
   "execution_count": 24,
   "metadata": {},
   "outputs": [
    {
     "data": {
      "text/plain": [
       "name                 499\n",
       "address              498\n",
       "rating               496\n",
       "latitude             499\n",
       "longitude            499\n",
       "number_of_reviews    499\n",
       "coordinates          499\n",
       "is_restaurant        499\n",
       "is_bank              499\n",
       "dtype: int64"
      ]
     },
     "execution_count": 24,
     "metadata": {},
     "output_type": "execute_result"
    }
   ],
   "source": [
    "final_df.count()"
   ]
  },
  {
   "cell_type": "code",
   "execution_count": 25,
   "metadata": {},
   "outputs": [],
   "source": [
    "final_df = final_df.get(['name', 'address', 'rating', 'latitude',\n",
    "                        'longitude', 'number_of_reviews', 'coordinates'])"
   ]
  },
  {
   "cell_type": "code",
   "execution_count": 26,
   "metadata": {},
   "outputs": [],
   "source": [
    "# s = df.groupby('address')['address'].count()\n",
    "# axes, fig = pyplot.subplots()\n",
    "# pyplot.bar(s.index[:5], s.values[:5], color='g')\n",
    "# pyplot.xticks(rotation=45, ha='right')\n",
    "# pyplot.show()"
   ]
  },
  {
   "cell_type": "code",
   "execution_count": 27,
   "metadata": {},
   "outputs": [],
   "source": [
    "final_df.to_csv('gonz.csv', index=False)"
   ]
  },
  {
   "cell_type": "code",
   "execution_count": null,
   "metadata": {},
   "outputs": [],
   "source": []
  }
 ],
 "metadata": {
  "kernelspec": {
   "display_name": "Python 3",
   "language": "python",
   "name": "python3"
  },
  "language_info": {
   "codemirror_mode": {
    "name": "ipython",
    "version": 3
   },
   "file_extension": ".py",
   "mimetype": "text/x-python",
   "name": "python",
   "nbconvert_exporter": "python",
   "pygments_lexer": "ipython3",
   "version": "3.11.1"
  }
 },
 "nbformat": 4,
 "nbformat_minor": 2
}

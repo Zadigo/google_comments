{
 "cells": [
  {
   "cell_type": "code",
   "execution_count": 98,
   "metadata": {},
   "outputs": [],
   "source": [
    "import pandas\n",
    "import json\n",
    "import pathlib"
   ]
  },
  {
   "cell_type": "code",
   "execution_count": 99,
   "metadata": {},
   "outputs": [],
   "source": [
    "PATH = pathlib.Path('C:/Users/pendenquej/OneDrive/Documents/Scrapping/centres')\n",
    "\n",
    "files = PATH.glob('**/*.json')"
   ]
  },
  {
   "cell_type": "code",
   "execution_count": 100,
   "metadata": {},
   "outputs": [],
   "source": [
    "def collection_items():\n",
    "    for file in files:\n",
    "        with open(file, mode='r', encoding='utf-8') as f:\n",
    "            data = json.load(f)\n",
    "            for item in data['items']:\n",
    "                yield {'center': data['name'], 'address': data['address'], 'name': item}"
   ]
  },
  {
   "cell_type": "code",
   "execution_count": 101,
   "metadata": {},
   "outputs": [],
   "source": [
    "collected_items = list(collection_items())"
   ]
  },
  {
   "cell_type": "code",
   "execution_count": 102,
   "metadata": {},
   "outputs": [],
   "source": [
    "df = pandas.DataFrame(collected_items)"
   ]
  },
  {
   "cell_type": "code",
   "execution_count": 103,
   "metadata": {},
   "outputs": [],
   "source": [
    "df = df.query(\"name != 'map'\")"
   ]
  },
  {
   "cell_type": "code",
   "execution_count": 104,
   "metadata": {},
   "outputs": [
    {
     "data": {
      "text/html": [
       "<div>\n",
       "<style scoped>\n",
       "    .dataframe tbody tr th:only-of-type {\n",
       "        vertical-align: middle;\n",
       "    }\n",
       "\n",
       "    .dataframe tbody tr th {\n",
       "        vertical-align: top;\n",
       "    }\n",
       "\n",
       "    .dataframe thead th {\n",
       "        text-align: right;\n",
       "    }\n",
       "</style>\n",
       "<table border=\"1\" class=\"dataframe\">\n",
       "  <thead>\n",
       "    <tr style=\"text-align: right;\">\n",
       "      <th></th>\n",
       "      <th>center</th>\n",
       "      <th>address</th>\n",
       "      <th>name</th>\n",
       "    </tr>\n",
       "  </thead>\n",
       "  <tbody>\n",
       "    <tr>\n",
       "      <th>0</th>\n",
       "      <td>Aéroville</td>\n",
       "      <td>30 Rue des Buissons, 95700 Roissy-en-France</td>\n",
       "      <td>ALDO</td>\n",
       "    </tr>\n",
       "    <tr>\n",
       "      <th>1</th>\n",
       "      <td>Aéroville</td>\n",
       "      <td>30 Rue des Buissons, 95700 Roissy-en-France</td>\n",
       "      <td>APPLE STORE</td>\n",
       "    </tr>\n",
       "    <tr>\n",
       "      <th>2</th>\n",
       "      <td>Aéroville</td>\n",
       "      <td>30 Rue des Buissons, 95700 Roissy-en-France</td>\n",
       "      <td>BLUE BOX</td>\n",
       "    </tr>\n",
       "    <tr>\n",
       "      <th>3</th>\n",
       "      <td>Aéroville</td>\n",
       "      <td>30 Rue des Buissons, 95700 Roissy-en-France</td>\n",
       "      <td>BOUYGUES TELECOM</td>\n",
       "    </tr>\n",
       "    <tr>\n",
       "      <th>4</th>\n",
       "      <td>Aéroville</td>\n",
       "      <td>30 Rue des Buissons, 95700 Roissy-en-France</td>\n",
       "      <td>CALZEDONIA</td>\n",
       "    </tr>\n",
       "  </tbody>\n",
       "</table>\n",
       "</div>"
      ],
      "text/plain": [
       "      center                                      address              name\n",
       "0  Aéroville  30 Rue des Buissons, 95700 Roissy-en-France              ALDO\n",
       "1  Aéroville  30 Rue des Buissons, 95700 Roissy-en-France       APPLE STORE\n",
       "2  Aéroville  30 Rue des Buissons, 95700 Roissy-en-France          BLUE BOX\n",
       "3  Aéroville  30 Rue des Buissons, 95700 Roissy-en-France  BOUYGUES TELECOM\n",
       "4  Aéroville  30 Rue des Buissons, 95700 Roissy-en-France        CALZEDONIA"
      ]
     },
     "execution_count": 104,
     "metadata": {},
     "output_type": "execute_result"
    }
   ],
   "source": [
    "df.head()"
   ]
  },
  {
   "cell_type": "code",
   "execution_count": 105,
   "metadata": {},
   "outputs": [],
   "source": [
    "df['data'] = None"
   ]
  },
  {
   "cell_type": "code",
   "execution_count": 106,
   "metadata": {},
   "outputs": [],
   "source": [
    "for item in df.itertuples(name='Center'):\n",
    "    df.loc[item.Index, 'data'] = f'{item.name} {item.center}'.lower()"
   ]
  },
  {
   "cell_type": "code",
   "execution_count": 107,
   "metadata": {},
   "outputs": [],
   "source": [
    "df.to_csv(PATH / 'commercial_centers.csv', encoding='utf-8', index=False)"
   ]
  }
 ],
 "metadata": {
  "kernelspec": {
   "display_name": "Python 3",
   "language": "python",
   "name": "python3"
  },
  "language_info": {
   "codemirror_mode": {
    "name": "ipython",
    "version": 3
   },
   "file_extension": ".py",
   "mimetype": "text/x-python",
   "name": "python",
   "nbconvert_exporter": "python",
   "pygments_lexer": "ipython3",
   "version": "3.11.1"
  }
 },
 "nbformat": 4,
 "nbformat_minor": 2
}
